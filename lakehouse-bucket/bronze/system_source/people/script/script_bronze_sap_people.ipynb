{
 "cells": [
  {
   "cell_type": "code",
   "execution_count": 0,
   "metadata": {
    "application/vnd.databricks.v1+cell": {
     "cellMetadata": {
      "byteLimit": 2048000,
      "rowLimit": 10000
     },
     "inputWidgets": {},
     "nuid": "59abf56e-e686-4a6b-9902-81a7279fc7eb",
     "showTitle": false,
     "tableResultSettingsMap": {},
     "title": ""
    }
   },
   "outputs": [],
   "source": [
    "#Declaración de librerías\n",
    "from pyspark.sql import SparkSession\n",
    "from pyspark.sql.types import StructType,StructField,StringType"
   ]
  },
  {
   "cell_type": "code",
   "execution_count": 0,
   "metadata": {
    "application/vnd.databricks.v1+cell": {
     "cellMetadata": {
      "byteLimit": 2048000,
      "rowLimit": 10000
     },
     "inputWidgets": {},
     "nuid": "2cd8b5ea-048b-4d4c-93c8-6d40a1c724aa",
     "showTitle": false,
     "tableResultSettingsMap": {},
     "title": ""
    }
   },
   "outputs": [],
   "source": [
    "#Declaración de variables\n",
    "bucket = 'dev-neoconsulting-lakehouse'\n",
    "ruta_persona_landing = f'gs://{bucket}/natura/landing/sap/personas/persona.data'\n",
    "\n",
    "ruta_persona_bronze = f'gs://{bucket}/bronze/sap/persona/'"
   ]
  },
  {
   "cell_type": "code",
   "execution_count": 0,
   "metadata": {
    "application/vnd.databricks.v1+cell": {
     "cellMetadata": {
      "byteLimit": 2048000,
      "rowLimit": 10000
     },
     "inputWidgets": {},
     "nuid": "18a043f8-2ce9-4afd-8202-6d1867013f98",
     "showTitle": false,
     "tableResultSettingsMap": {},
     "title": ""
    }
   },
   "outputs": [],
   "source": [
    "spark = SparkSession.builder.getOrCreate()"
   ]
  },
  {
   "cell_type": "code",
   "execution_count": 0,
   "metadata": {
    "application/vnd.databricks.v1+cell": {
     "cellMetadata": {
      "byteLimit": 2048000,
      "rowLimit": 10000
     },
     "inputWidgets": {},
     "nuid": "57888795-702f-4bcd-8d15-7f75530889ab",
     "showTitle": false,
     "tableResultSettingsMap": {},
     "title": ""
    }
   },
   "outputs": [],
   "source": [
    "# 4.1 Estructura del dataframe.\n",
    "df_schema = StructType([\n",
    "StructField(\"ID\", StringType(),True),\n",
    "StructField(\"NOMBRE\", StringType(),True),\n",
    "StructField(\"TELEFONO\", StringType(),True),\n",
    "StructField(\"CORREO\", StringType(),True),\n",
    "StructField(\"FECHA_INGRESO\", StringType(),True),\n",
    "StructField(\"EDAD\", StringType(),True),\n",
    "StructField(\"SALARIO\", StringType(),True),\n",
    "StructField(\"ID_EMPRESA\", StringType(),True),\n",
    "])"
   ]
  },
  {
   "cell_type": "code",
   "execution_count": 0,
   "metadata": {
    "application/vnd.databricks.v1+cell": {
     "cellMetadata": {
      "byteLimit": 2048000,
      "rowLimit": 10000
     },
     "inputWidgets": {},
     "nuid": "9dac616b-1910-4036-947d-affa35e740f6",
     "showTitle": false,
     "tableResultSettingsMap": {},
     "title": ""
    }
   },
   "outputs": [],
   "source": [
    "df = spark.read.format(\"CSV\").option(\"header\",\"true\").option(\"delimiter\",\"|\").schema(df_schema).load(ruta_persona_landing)\n"
   ]
  },
  {
   "cell_type": "code",
   "execution_count": 0,
   "metadata": {
    "application/vnd.databricks.v1+cell": {
     "cellMetadata": {
      "byteLimit": 2048000,
      "rowLimit": 10000
     },
     "inputWidgets": {},
     "nuid": "01845e3c-8b4e-4ec3-80ed-bfcc329d8be0",
     "showTitle": false,
     "tableResultSettingsMap": {},
     "title": ""
    }
   },
   "outputs": [
    {
     "output_type": "display_data",
     "data": {
      "text/html": [
       "<style scoped>\n",
       "  .table-result-container {\n",
       "    max-height: 300px;\n",
       "    overflow: auto;\n",
       "  }\n",
       "  table, th, td {\n",
       "    border: 1px solid black;\n",
       "    border-collapse: collapse;\n",
       "  }\n",
       "  th, td {\n",
       "    padding: 5px;\n",
       "  }\n",
       "  th {\n",
       "    text-align: left;\n",
       "  }\n",
       "</style><div class='table-result-container'><table class='table-result'><thead style='background-color: white'><tr><th>ID</th><th>NOMBRE</th><th>TELEFONO</th><th>CORREO</th><th>FECHA_INGRESO</th><th>EDAD</th><th>SALARIO</th><th>ID_EMPRESA</th></tr></thead><tbody><tr><td>1</td><td>Carl</td><td>1-745-633-9145</td><td>arcu.Sed.et@ante.co.uk</td><td>2004-04-23</td><td>32</td><td>20095</td><td>5</td></tr><tr><td>2</td><td>Priscilla</td><td>155-2498</td><td>Donec.egestas.Aliquam@volutpatnunc.edu</td><td>2019-02-17</td><td>34</td><td>9298</td><td>2</td></tr><tr><td>3</td><td>Jocelyn</td><td>1-204-956-8594</td><td>amet.diam@lobortis.co.uk</td><td>2002-08-01</td><td>27</td><td>10853</td><td>3</td></tr><tr><td>4</td><td>Aidan</td><td>1-719-862-9385</td><td>euismod.et.commodo@nibhlaciniaorci.edu</td><td>2018-11-06</td><td>29</td><td>3387</td><td>10</td></tr><tr><td>5</td><td>Leandra</td><td>839-8044</td><td>at@pretiumetrutrum.com</td><td>2002-10-10</td><td>41</td><td>22102</td><td>1</td></tr><tr><td>6</td><td>Bert</td><td>797-4453</td><td>a.felis.ullamcorper@arcu.org</td><td>2017-04-25</td><td>70</td><td>7800</td><td>7</td></tr><tr><td>7</td><td>Mark1-680-102-6792</td><td>Quisque.ac@placerat.ca</td><td>2006-04-21</td><td>52</td><td>8112</td><td>5</td><td>null</td></tr><tr><td>8</td><td>Jonah</td><td>null</td><td>214-2975</td><td>eu.ultrices.sit@vitae.ca</td><td>2017-10-07</td><td>23</td><td>17040</td></tr><tr><td>9</td><td>Hanae</td><td>935-2277</td><td>eu@Nunc.ca</td><td>2003-05-25</td><td>69</td><td>6834</td><td>3</td></tr><tr><td>10</td><td>Cadman</td><td>1-866-561-2701</td><td>orci.adipiscing.non@semperNam.ca</td><td>2001-05-19</td><td>19</td><td>7996</td><td>7</td></tr><tr><td>11</td><td>Melyssa</td><td>596-7736</td><td>vel@vulputateposuerevulputate.net</td><td>2008-10-14</td><td>48</td><td>4913</td><td>8</td></tr><tr><td>12</td><td>Tanner</td><td>1-739-776-7897</td><td>arcu.Aliquam.ultrices@sociis.com</td><td>2011-05-10</td><td>24</td><td>19943</td><td>8</td></tr><tr><td>13</td><td>Trevor</td><td>512-1955</td><td>Nunc.quis.arcu@egestasa.org</td><td>2010-08-06</td><td>34</td><td>9501</td><td>5</td></tr><tr><td>14</td><td>Allen</td><td>733-2795</td><td>felis.Donec@necleo.org</td><td>2005-03-07</td><td>59</td><td>16289</td><td>2</td></tr><tr><td>15</td><td>Wanda</td><td>359-6973</td><td>Nam.nulla.magna@In.org</td><td>2005-08-21</td><td>27</td><td>1539</td><td>5</td></tr><tr><td>16</td><td>Alden</td><td>341-8522</td><td>odio@morbitristiquesenectus.ca</td><td>2006-12-05</td><td>26</td><td>3377</td><td>2</td></tr><tr><td>17</td><td>Omar</td><td>720-1543</td><td>Phasellus.vitae.mauris@sollicitudin.net</td><td>2014-06-24</td><td>60</td><td>6851</td><td>6</td></tr><tr><td>18</td><td>Owen</td><td>1-167-335-7541</td><td>sociis@erat.com</td><td>2002-04-09</td><td>34</td><td>4759</td><td>7</td></tr><tr><td>19</td><td>Laura</td><td>1-974-623-2057</td><td>mollis@ornare.ca</td><td>2017-03-09</td><td>70</td><td>17403</td><td>4</td></tr><tr><td>20</td><td>Emery</td><td>1-672-840-0264</td><td>at.nisi@vel.org</td><td>2004-02-27</td><td>24</td><td>18752</td><td>9</td></tr><tr><td>21</td><td>Carissa</td><td>1-300-877-0859</td><td>dignissim.pharetra.Nam@Pellentesqueultriciesdignissim.com</td><td>2011-10-16</td><td>31</td><td>1952</td><td>10</td></tr><tr><td>22</td><td>Kibo</td><td>970-8006</td><td>scelerisque.lorem@mattis.org</td><td>2012-04-25</td><td>22</td><td>7449</td><td>2</td></tr><tr><td>23</td><td>Samson</td><td>1-430-188-6663</td><td>urna.justo.faucibus@neceleifendnon.net</td><td>2011-12-15</td><td>51</td><td>8099</td><td>6</td></tr><tr><td>24</td><td>Amaya</td><td>1-448-826-9497</td><td>ullamcorper.magna@dictumultriciesligula.org</td><td>2000-09-18</td><td>24</td><td>1801</td><td>8</td></tr><tr><td>25</td><td>Pearl</td><td>1-850-202-3373</td><td>vel.convallis@rhoncus.co.uk</td><td>2018-12-21</td><td>52</td><td>14756</td><td>6</td></tr><tr><td>26</td><td>Brenden</td><td>1-455-726-9413</td><td>elit.pede.malesuada@liberomaurisaliquam.org</td><td>2000-03-17</td><td>33</td><td>20549</td><td>7</td></tr><tr><td>27</td><td>Alexander</td><td>912-0676</td><td>semper.auctor.Mauris@mollislectuspede.edu</td><td>2000-08-16</td><td>55</td><td>13813</td><td>6</td></tr><tr><td>28</td><td>Stephen</td><td>326-2020</td><td>arcu.Aliquam.ultrices@acnullaIn.co.uk</td><td>2016-09-04</td><td>53</td><td>9469</td><td>8</td></tr><tr><td>29</td><td>Jana</td><td>1-564-106-5562</td><td>sed.dolor.Fusce@Sedet.co.uk</td><td>2008-10-18</td><td>39</td><td>6483</td><td>2</td></tr><tr><td>30</td><td>Clayton</td><td>1-599-614-5185</td><td>est.Nunc@dictumeuplacerat.com</td><td>2008-10-08</td><td>52</td><td>9505</td><td>8</td></tr><tr><td>31</td><td>Rylee</td><td>306-5447</td><td>Sed.nunc@turpis.edu</td><td>2001-09-17</td><td>47</td><td>21591</td><td>3</td></tr><tr><td>32</td><td>Gisela</td><td>406-8031</td><td>Praesent.luctus@dui.co.uk</td><td>2002-08-21</td><td>67</td><td>6497</td><td>1</td></tr><tr><td>33</td><td>Jin</td><td>1-620-779-3366</td><td>est.Nunc.ullamcorper@nullaInteger.co.uk</td><td>2016-11-07</td><td>42</td><td>22038</td><td>2</td></tr><tr><td>34</td><td>Lila</td><td>1-703-777-4150</td><td>viverra@sit.edu</td><td>2015-02-26</td><td>48</td><td>24305</td><td>4</td></tr><tr><td>35</td><td>Aurora</td><td>1-865-751-3479</td><td>magna@Cras.net</td><td>2017-10-21</td><td>54</td><td>4588</td><td>5</td></tr><tr><td>36</td><td>Keely</td><td>1-882-403-3531</td><td>taciti@neceleifendnon.edu</td><td>2008-02-03</td><td>41</td><td>10373</td><td>9</td></tr><tr><td>37</td><td>Inga</td><td>767-6448</td><td>Mauris.quis.turpis@euismodurna.net</td><td>2016-12-31</td><td>41</td><td>8562</td><td>3</td></tr><tr><td>38</td><td>Irma</td><td>722-8997</td><td>ac.urna.Ut@a.ca</td><td>2013-10-14</td><td>58</td><td>6747</td><td>8</td></tr><tr><td>39</td><td>Carolyn</td><td>846-7060</td><td>metus.Aenean.sed@odiosempercursus.ca</td><td>2013-05-29</td><td>64</td><td>22838</td><td>6</td></tr><tr><td>40</td><td>Ross</td><td>387-0945</td><td>amet.faucibus@ipsum.edu</td><td>2009-07-27</td><td>67</td><td>14285</td><td>3</td></tr><tr><td>41</td><td>Wynne</td><td>711-0298</td><td>eget@dolorQuisque.ca</td><td>2007-07-24</td><td>31</td><td>19522</td><td>4</td></tr><tr><td>42</td><td>Wanda</td><td>941-3970</td><td>auctor.velit@sem.com</td><td>2011-12-12</td><td>42</td><td>5419</td><td>9</td></tr><tr><td>43</td><td>Yetta</td><td>986-0220</td><td>vitae@dapibusrutrumjusto.co.uk</td><td>2008-03-24</td><td>61</td><td>21452</td><td>2</td></tr><tr><td>44</td><td>Azalia</td><td>582-8465</td><td>eu.odio@a.co.uk</td><td>2009-12-14</td><td>27</td><td>16735</td><td>10</td></tr><tr><td>45</td><td>Kylynn</td><td>1-427-463-8734</td><td>porttitor.eros.nec@Integer.net</td><td>2006-12-19</td><td>22</td><td>7040</td><td>7</td></tr><tr><td>46</td><td>Camden</td><td>1-663-540-3304</td><td>leo@dignissimpharetraNam.net</td><td>2003-10-19</td><td>30</td><td>7860</td><td>10</td></tr><tr><td>47</td><td>Vernon</td><td>735-8400</td><td>leo@mattisIntegereu.net</td><td>2000-11-23</td><td>35</td><td>7109</td><td>10</td></tr><tr><td>48</td><td>Illiana</td><td>572-3648</td><td>montes.nascetur.ridiculus@hendreritneque.co.uk</td><td>2017-07-25</td><td>18</td><td>1454</td><td>8</td></tr><tr><td>49</td><td>Logan</td><td>706-7700</td><td>neque@sedpede.net</td><td>2008-03-07</td><td>63</td><td>4963</td><td>7</td></tr><tr><td>50</td><td>Ross</td><td>1-587-285-1837</td><td>at.risus@milaciniamattis.com</td><td>2009-11-03</td><td>31</td><td>19092</td><td>5</td></tr><tr><td>51</td><td>Damon</td><td>368-7630</td><td>nunc@dapibusquamquis.co.uk</td><td>2016-08-11</td><td>49</td><td>2669</td><td>5</td></tr><tr><td>52</td><td>Whoopi</td><td>1-671-552-5009</td><td>semper@Cras.ca</td><td>2019-01-21</td><td>22</td><td>23051</td><td>9</td></tr><tr><td>53</td><td>Zachery</td><td>314-8083</td><td>hymenaeos.Mauris@mollis.ca</td><td>2001-01-06</td><td>22</td><td>23820</td><td>3</td></tr><tr><td>54</td><td>Lars</td><td>1-554-600-0855</td><td>commodo@Nam.edu</td><td>2005-06-22</td><td>25</td><td>20573</td><td>1</td></tr><tr><td>55</td><td>Jennifer</td><td>755-6162</td><td>id@ultrices.com</td><td>2011-10-19</td><td>64</td><td>19013</td><td>9</td></tr><tr><td>56</td><td>Colby</td><td>1-517-827-8614</td><td>nec.ligula@euneque.ca</td><td>2014-03-05</td><td>19</td><td>15496</td><td>7</td></tr><tr><td>57</td><td>Jillian</td><td>1-286-285-0336</td><td>ipsum@luctus.org</td><td>2006-06-02</td><td>47</td><td>13445</td><td>8</td></tr><tr><td>58</td><td>Igor</td><td>1-361-603-8276</td><td>mattis.Integer.eu@hendreritconsectetuer.net</td><td>2003-07-18</td><td>37</td><td>6191</td><td>3</td></tr><tr><td>59</td><td>Quemby</td><td>930-5882</td><td>lorem.ut.aliquam@nuncsed.org</td><td>2017-10-04</td><td>26</td><td>12092</td><td>5</td></tr><tr><td>60</td><td>Bernard</td><td>492-8823</td><td>vel.faucibus@Donec.edu</td><td>2005-04-15</td><td>27</td><td>10825</td><td>2</td></tr><tr><td>61</td><td>Abel</td><td>1-235-530-5916</td><td>Curae@afacilisis.org</td><td>2011-11-08</td><td>33</td><td>15070</td><td>9</td></tr><tr><td>62</td><td>Amelia</td><td>119-9184</td><td>Donec.egestas.Aliquam@turpisvitae.co.uk</td><td>2016-01-15</td><td>35</td><td>6042</td><td>8</td></tr><tr><td>63</td><td>Sade</td><td>112-5494</td><td>In@utquam.com</td><td>2012-04-05</td><td>70</td><td>11112</td><td>6</td></tr><tr><td>64</td><td>Graiden</td><td>874-4897</td><td>massa.Mauris.vestibulum@sitamet.co.uk</td><td>2010-06-10</td><td>28</td><td>22037</td><td>3</td></tr><tr><td>65</td><td>Nehru</td><td>142-9576</td><td>nibh@sagittis.org</td><td>2017-08-13</td><td>34</td><td>12423</td><td>4</td></tr><tr><td>66</td><td>Adrian</td><td>220-8905</td><td>enim@mollisPhasellus.com</td><td>2018-03-15</td><td>46</td><td>22953</td><td>2</td></tr><tr><td>67</td><td>Buffy</td><td>1-538-190-2276</td><td>amet@at.ca</td><td>2005-10-21</td><td>38</td><td>15116</td><td>2</td></tr><tr><td>68</td><td>Hayes</td><td>712-8783</td><td>at@ametdiam.net</td><td>2011-12-31</td><td>31</td><td>7523</td><td>5</td></tr><tr><td>69</td><td>Halee</td><td>1-208-996-8549</td><td>interdum.feugiat@imperdietornare.edu</td><td>2008-12-25</td><td>30</td><td>16782</td><td>3</td></tr><tr><td>70</td><td>Suki</td><td>1-654-418-8537</td><td>varius.orci.in@congueelit.co.uk</td><td>2010-05-15</td><td>43</td><td>12029</td><td>1</td></tr><tr><td>71</td><td>Doris</td><td>508-8624</td><td>Curabitur.vel.lectus@mauris.co.uk</td><td>2005-04-28</td><td>23</td><td>11538</td><td>6</td></tr><tr><td>72</td><td>Tallulah</td><td>1-314-720-8141</td><td>non@idmagnaet.ca</td><td>2000-04-03</td><td>46</td><td>9867</td><td>5</td></tr><tr><td>73</td><td>Fiona</td><td>1-866-258-8730</td><td>sit@sedsemegestas.net</td><td>2009-09-27</td><td>42</td><td>9960</td><td>10</td></tr><tr><td>74</td><td>Kaitlin</td><td>817-0415</td><td>Etiam.laoreet.libero@odiosagittissemper.net</td><td>2009-05-22</td><td>56</td><td>6515</td><td>10</td></tr><tr><td>75</td><td>Nyssa</td><td>362-0379</td><td>nisi.sem.semper@egestasligulaNullam.edu</td><td>2002-04-29</td><td>53</td><td>2284</td><td>6</td></tr><tr><td>76</td><td>Omar</td><td>1-325-245-9578</td><td>elit.erat@utodiovel.co.uk</td><td>2012-11-19</td><td>34</td><td>12163</td><td>6</td></tr><tr><td>77</td><td>Brynne</td><td>1-357-977-8936</td><td>aliquet.nec.imperdiet@euismod.org</td><td>2013-06-04</td><td>22</td><td>16551</td><td>7</td></tr><tr><td>78</td><td>Lenore</td><td>1-817-973-5592</td><td>Nunc.pulvinar.arcu@Duisatlacus.co.uk</td><td>2014-07-07</td><td>57</td><td>1483</td><td>2</td></tr><tr><td>79</td><td>Philip</td><td>1-113-528-3055</td><td>nisi.Cum@malesuadavel.edu</td><td>2012-09-17</td><td>51</td><td>3919</td><td>10</td></tr><tr><td>80</td><td>Ebony</td><td>1-291-360-4704</td><td>parturient.montes.nascetur@vitaeerat.com</td><td>2014-05-22</td><td>59</td><td>3600</td><td>6</td></tr><tr><td>81</td><td>Joy</td><td>1-379-384-0646</td><td>mi.Aliquam@nislNulla.org</td><td>2015-11-15</td><td>19</td><td>1256</td><td>2</td></tr><tr><td>82</td><td>Cally</td><td>1-658-890-5167</td><td>id@dolor.edu</td><td>2008-12-13</td><td>67</td><td>24575</td><td>10</td></tr><tr><td>83</td><td>Giselle</td><td>1-515-799-6913</td><td>ipsum.Suspendisse.sagittis@Innec.org</td><td>2002-10-31</td><td>45</td><td>2503</td><td>2</td></tr><tr><td>84</td><td>Keith</td><td>1-319-281-9980</td><td>augue.ac@Nulla.co.uk</td><td>2008-01-03</td><td>33</td><td>13348</td><td>4</td></tr><tr><td>85</td><td>Kennedy</td><td>596-0668</td><td>nibh.sit@famesac.ca</td><td>2011-04-25</td><td>41</td><td>7272</td><td>3</td></tr><tr><td>86</td><td>Jack</td><td>860-9554</td><td>parturient.montes.nascetur@dui.com</td><td>2017-03-10</td><td>58</td><td>14473</td><td>5</td></tr><tr><td>87</td><td>Karly</td><td>1-644-725-7241</td><td>tempor.erat@feugiatnon.ca</td><td>2011-06-12</td><td>25</td><td>3715</td><td>1</td></tr><tr><td>88</td><td>Zeus</td><td>1-525-361-5753</td><td>non.magna.Nam@nuncid.org</td><td>2000-09-15</td><td>29</td><td>21556</td><td>7</td></tr><tr><td>89</td><td>Kelly</td><td>430-9134</td><td>turpis.In@egestasFusce.ca</td><td>2016-04-01</td><td>55</td><td>10110</td><td>6</td></tr><tr><td>90</td><td>Sigourney</td><td>598-8806</td><td>sit.amet@sem.net</td><td>2002-05-02</td><td>42</td><td>9145</td><td>6</td></tr><tr><td>91</td><td>Erica</td><td>1-320-339-2705</td><td>tristique.senectus@eleifendnondapibus.org</td><td>2015-02-23</td><td>32</td><td>8934</td><td>6</td></tr><tr><td>92</td><td>Lesley</td><td>973-4902</td><td>felis.adipiscing.fringilla@Proinvelnisl.co.uk</td><td>2004-02-29</td><td>19</td><td>23547</td><td>4</td></tr><tr><td>93</td><td>Althea</td><td>1-163-702-1244</td><td>sit.amet.nulla@elit.co.uk</td><td>2002-09-01</td><td>24</td><td>8818</td><td>1</td></tr><tr><td>94</td><td>Amir</td><td>1-221-717-0093</td><td>dapibus.ligula@faucibuslectus.com</td><td>2001-02-11</td><td>18</td><td>20980</td><td>4</td></tr><tr><td>95</td><td>Jayme</td><td>1-641-113-8418</td><td>ornare.Fusce@tinciduntcongueturpis.co.uk</td><td>2002-05-31</td><td>58</td><td>23975</td><td>4</td></tr><tr><td>96</td><td>Amos</td><td>729-4665</td><td>non.lacinia@pharetra.net</td><td>2017-11-27</td><td>42</td><td>15855</td><td>2</td></tr><tr><td>97</td><td>Flavia</td><td>1-559-270-7164</td><td>erat.vel.pede@sedtortor.co.uk</td><td>2004-11-14</td><td>27</td><td>13473</td><td>3</td></tr><tr><td>98</td><td>Yuli</td><td>772-9996</td><td>sagittis@nisl.com</td><td>2005-04-17</td><td>57</td><td>1336</td><td>5</td></tr><tr><td>99</td><td>Ray</td><td>1-420-314-2886</td><td>ac.risus.Morbi@telluseuaugue.org</td><td>2011-12-30</td><td>26</td><td>5570</td><td>1</td></tr><tr><td>100</td><td>Cynthia</td><td>148-9696</td><td>justo.nec.ante@tinciduntvehicula.org</td><td>2008-01-23</td><td>57</td><td>8682</td><td>5</td></tr></tbody></table></div>"
      ]
     },
     "metadata": {
      "application/vnd.databricks.v1+output": {
       "addedWidgets": {},
       "aggData": [],
       "aggError": "",
       "aggOverflow": false,
       "aggSchema": [],
       "aggSeriesLimitReached": false,
       "aggType": "",
       "arguments": {},
       "columnCustomDisplayInfos": {},
       "data": [
        [
         "1",
         "Carl",
         "1-745-633-9145",
         "arcu.Sed.et@ante.co.uk",
         "2004-04-23",
         "32",
         "20095",
         "5"
        ],
        [
         "2",
         "Priscilla",
         "155-2498",
         "Donec.egestas.Aliquam@volutpatnunc.edu",
         "2019-02-17",
         "34",
         "9298",
         "2"
        ],
        [
         "3",
         "Jocelyn",
         "1-204-956-8594",
         "amet.diam@lobortis.co.uk",
         "2002-08-01",
         "27",
         "10853",
         "3"
        ],
        [
         "4",
         "Aidan",
         "1-719-862-9385",
         "euismod.et.commodo@nibhlaciniaorci.edu",
         "2018-11-06",
         "29",
         "3387",
         "10"
        ],
        [
         "5",
         "Leandra",
         "839-8044",
         "at@pretiumetrutrum.com",
         "2002-10-10",
         "41",
         "22102",
         "1"
        ],
        [
         "6",
         "Bert",
         "797-4453",
         "a.felis.ullamcorper@arcu.org",
         "2017-04-25",
         "70",
         "7800",
         "7"
        ],
        [
         "7",
         "Mark1-680-102-6792",
         "Quisque.ac@placerat.ca",
         "2006-04-21",
         "52",
         "8112",
         "5",
         null
        ],
        [
         "8",
         "Jonah",
         null,
         "214-2975",
         "eu.ultrices.sit@vitae.ca",
         "2017-10-07",
         "23",
         "17040"
        ],
        [
         "9",
         "Hanae",
         "935-2277",
         "eu@Nunc.ca",
         "2003-05-25",
         "69",
         "6834",
         "3"
        ],
        [
         "10",
         "Cadman",
         "1-866-561-2701",
         "orci.adipiscing.non@semperNam.ca",
         "2001-05-19",
         "19",
         "7996",
         "7"
        ],
        [
         "11",
         "Melyssa",
         "596-7736",
         "vel@vulputateposuerevulputate.net",
         "2008-10-14",
         "48",
         "4913",
         "8"
        ],
        [
         "12",
         "Tanner",
         "1-739-776-7897",
         "arcu.Aliquam.ultrices@sociis.com",
         "2011-05-10",
         "24",
         "19943",
         "8"
        ],
        [
         "13",
         "Trevor",
         "512-1955",
         "Nunc.quis.arcu@egestasa.org",
         "2010-08-06",
         "34",
         "9501",
         "5"
        ],
        [
         "14",
         "Allen",
         "733-2795",
         "felis.Donec@necleo.org",
         "2005-03-07",
         "59",
         "16289",
         "2"
        ],
        [
         "15",
         "Wanda",
         "359-6973",
         "Nam.nulla.magna@In.org",
         "2005-08-21",
         "27",
         "1539",
         "5"
        ],
        [
         "16",
         "Alden",
         "341-8522",
         "odio@morbitristiquesenectus.ca",
         "2006-12-05",
         "26",
         "3377",
         "2"
        ],
        [
         "17",
         "Omar",
         "720-1543",
         "Phasellus.vitae.mauris@sollicitudin.net",
         "2014-06-24",
         "60",
         "6851",
         "6"
        ],
        [
         "18",
         "Owen",
         "1-167-335-7541",
         "sociis@erat.com",
         "2002-04-09",
         "34",
         "4759",
         "7"
        ],
        [
         "19",
         "Laura",
         "1-974-623-2057",
         "mollis@ornare.ca",
         "2017-03-09",
         "70",
         "17403",
         "4"
        ],
        [
         "20",
         "Emery",
         "1-672-840-0264",
         "at.nisi@vel.org",
         "2004-02-27",
         "24",
         "18752",
         "9"
        ],
        [
         "21",
         "Carissa",
         "1-300-877-0859",
         "dignissim.pharetra.Nam@Pellentesqueultriciesdignissim.com",
         "2011-10-16",
         "31",
         "1952",
         "10"
        ],
        [
         "22",
         "Kibo",
         "970-8006",
         "scelerisque.lorem@mattis.org",
         "2012-04-25",
         "22",
         "7449",
         "2"
        ],
        [
         "23",
         "Samson",
         "1-430-188-6663",
         "urna.justo.faucibus@neceleifendnon.net",
         "2011-12-15",
         "51",
         "8099",
         "6"
        ],
        [
         "24",
         "Amaya",
         "1-448-826-9497",
         "ullamcorper.magna@dictumultriciesligula.org",
         "2000-09-18",
         "24",
         "1801",
         "8"
        ],
        [
         "25",
         "Pearl",
         "1-850-202-3373",
         "vel.convallis@rhoncus.co.uk",
         "2018-12-21",
         "52",
         "14756",
         "6"
        ],
        [
         "26",
         "Brenden",
         "1-455-726-9413",
         "elit.pede.malesuada@liberomaurisaliquam.org",
         "2000-03-17",
         "33",
         "20549",
         "7"
        ],
        [
         "27",
         "Alexander",
         "912-0676",
         "semper.auctor.Mauris@mollislectuspede.edu",
         "2000-08-16",
         "55",
         "13813",
         "6"
        ],
        [
         "28",
         "Stephen",
         "326-2020",
         "arcu.Aliquam.ultrices@acnullaIn.co.uk",
         "2016-09-04",
         "53",
         "9469",
         "8"
        ],
        [
         "29",
         "Jana",
         "1-564-106-5562",
         "sed.dolor.Fusce@Sedet.co.uk",
         "2008-10-18",
         "39",
         "6483",
         "2"
        ],
        [
         "30",
         "Clayton",
         "1-599-614-5185",
         "est.Nunc@dictumeuplacerat.com",
         "2008-10-08",
         "52",
         "9505",
         "8"
        ],
        [
         "31",
         "Rylee",
         "306-5447",
         "Sed.nunc@turpis.edu",
         "2001-09-17",
         "47",
         "21591",
         "3"
        ],
        [
         "32",
         "Gisela",
         "406-8031",
         "Praesent.luctus@dui.co.uk",
         "2002-08-21",
         "67",
         "6497",
         "1"
        ],
        [
         "33",
         "Jin",
         "1-620-779-3366",
         "est.Nunc.ullamcorper@nullaInteger.co.uk",
         "2016-11-07",
         "42",
         "22038",
         "2"
        ],
        [
         "34",
         "Lila",
         "1-703-777-4150",
         "viverra@sit.edu",
         "2015-02-26",
         "48",
         "24305",
         "4"
        ],
        [
         "35",
         "Aurora",
         "1-865-751-3479",
         "magna@Cras.net",
         "2017-10-21",
         "54",
         "4588",
         "5"
        ],
        [
         "36",
         "Keely",
         "1-882-403-3531",
         "taciti@neceleifendnon.edu",
         "2008-02-03",
         "41",
         "10373",
         "9"
        ],
        [
         "37",
         "Inga",
         "767-6448",
         "Mauris.quis.turpis@euismodurna.net",
         "2016-12-31",
         "41",
         "8562",
         "3"
        ],
        [
         "38",
         "Irma",
         "722-8997",
         "ac.urna.Ut@a.ca",
         "2013-10-14",
         "58",
         "6747",
         "8"
        ],
        [
         "39",
         "Carolyn",
         "846-7060",
         "metus.Aenean.sed@odiosempercursus.ca",
         "2013-05-29",
         "64",
         "22838",
         "6"
        ],
        [
         "40",
         "Ross",
         "387-0945",
         "amet.faucibus@ipsum.edu",
         "2009-07-27",
         "67",
         "14285",
         "3"
        ],
        [
         "41",
         "Wynne",
         "711-0298",
         "eget@dolorQuisque.ca",
         "2007-07-24",
         "31",
         "19522",
         "4"
        ],
        [
         "42",
         "Wanda",
         "941-3970",
         "auctor.velit@sem.com",
         "2011-12-12",
         "42",
         "5419",
         "9"
        ],
        [
         "43",
         "Yetta",
         "986-0220",
         "vitae@dapibusrutrumjusto.co.uk",
         "2008-03-24",
         "61",
         "21452",
         "2"
        ],
        [
         "44",
         "Azalia",
         "582-8465",
         "eu.odio@a.co.uk",
         "2009-12-14",
         "27",
         "16735",
         "10"
        ],
        [
         "45",
         "Kylynn",
         "1-427-463-8734",
         "porttitor.eros.nec@Integer.net",
         "2006-12-19",
         "22",
         "7040",
         "7"
        ],
        [
         "46",
         "Camden",
         "1-663-540-3304",
         "leo@dignissimpharetraNam.net",
         "2003-10-19",
         "30",
         "7860",
         "10"
        ],
        [
         "47",
         "Vernon",
         "735-8400",
         "leo@mattisIntegereu.net",
         "2000-11-23",
         "35",
         "7109",
         "10"
        ],
        [
         "48",
         "Illiana",
         "572-3648",
         "montes.nascetur.ridiculus@hendreritneque.co.uk",
         "2017-07-25",
         "18",
         "1454",
         "8"
        ],
        [
         "49",
         "Logan",
         "706-7700",
         "neque@sedpede.net",
         "2008-03-07",
         "63",
         "4963",
         "7"
        ],
        [
         "50",
         "Ross",
         "1-587-285-1837",
         "at.risus@milaciniamattis.com",
         "2009-11-03",
         "31",
         "19092",
         "5"
        ],
        [
         "51",
         "Damon",
         "368-7630",
         "nunc@dapibusquamquis.co.uk",
         "2016-08-11",
         "49",
         "2669",
         "5"
        ],
        [
         "52",
         "Whoopi",
         "1-671-552-5009",
         "semper@Cras.ca",
         "2019-01-21",
         "22",
         "23051",
         "9"
        ],
        [
         "53",
         "Zachery",
         "314-8083",
         "hymenaeos.Mauris@mollis.ca",
         "2001-01-06",
         "22",
         "23820",
         "3"
        ],
        [
         "54",
         "Lars",
         "1-554-600-0855",
         "commodo@Nam.edu",
         "2005-06-22",
         "25",
         "20573",
         "1"
        ],
        [
         "55",
         "Jennifer",
         "755-6162",
         "id@ultrices.com",
         "2011-10-19",
         "64",
         "19013",
         "9"
        ],
        [
         "56",
         "Colby",
         "1-517-827-8614",
         "nec.ligula@euneque.ca",
         "2014-03-05",
         "19",
         "15496",
         "7"
        ],
        [
         "57",
         "Jillian",
         "1-286-285-0336",
         "ipsum@luctus.org",
         "2006-06-02",
         "47",
         "13445",
         "8"
        ],
        [
         "58",
         "Igor",
         "1-361-603-8276",
         "mattis.Integer.eu@hendreritconsectetuer.net",
         "2003-07-18",
         "37",
         "6191",
         "3"
        ],
        [
         "59",
         "Quemby",
         "930-5882",
         "lorem.ut.aliquam@nuncsed.org",
         "2017-10-04",
         "26",
         "12092",
         "5"
        ],
        [
         "60",
         "Bernard",
         "492-8823",
         "vel.faucibus@Donec.edu",
         "2005-04-15",
         "27",
         "10825",
         "2"
        ],
        [
         "61",
         "Abel",
         "1-235-530-5916",
         "Curae@afacilisis.org",
         "2011-11-08",
         "33",
         "15070",
         "9"
        ],
        [
         "62",
         "Amelia",
         "119-9184",
         "Donec.egestas.Aliquam@turpisvitae.co.uk",
         "2016-01-15",
         "35",
         "6042",
         "8"
        ],
        [
         "63",
         "Sade",
         "112-5494",
         "In@utquam.com",
         "2012-04-05",
         "70",
         "11112",
         "6"
        ],
        [
         "64",
         "Graiden",
         "874-4897",
         "massa.Mauris.vestibulum@sitamet.co.uk",
         "2010-06-10",
         "28",
         "22037",
         "3"
        ],
        [
         "65",
         "Nehru",
         "142-9576",
         "nibh@sagittis.org",
         "2017-08-13",
         "34",
         "12423",
         "4"
        ],
        [
         "66",
         "Adrian",
         "220-8905",
         "enim@mollisPhasellus.com",
         "2018-03-15",
         "46",
         "22953",
         "2"
        ],
        [
         "67",
         "Buffy",
         "1-538-190-2276",
         "amet@at.ca",
         "2005-10-21",
         "38",
         "15116",
         "2"
        ],
        [
         "68",
         "Hayes",
         "712-8783",
         "at@ametdiam.net",
         "2011-12-31",
         "31",
         "7523",
         "5"
        ],
        [
         "69",
         "Halee",
         "1-208-996-8549",
         "interdum.feugiat@imperdietornare.edu",
         "2008-12-25",
         "30",
         "16782",
         "3"
        ],
        [
         "70",
         "Suki",
         "1-654-418-8537",
         "varius.orci.in@congueelit.co.uk",
         "2010-05-15",
         "43",
         "12029",
         "1"
        ],
        [
         "71",
         "Doris",
         "508-8624",
         "Curabitur.vel.lectus@mauris.co.uk",
         "2005-04-28",
         "23",
         "11538",
         "6"
        ],
        [
         "72",
         "Tallulah",
         "1-314-720-8141",
         "non@idmagnaet.ca",
         "2000-04-03",
         "46",
         "9867",
         "5"
        ],
        [
         "73",
         "Fiona",
         "1-866-258-8730",
         "sit@sedsemegestas.net",
         "2009-09-27",
         "42",
         "9960",
         "10"
        ],
        [
         "74",
         "Kaitlin",
         "817-0415",
         "Etiam.laoreet.libero@odiosagittissemper.net",
         "2009-05-22",
         "56",
         "6515",
         "10"
        ],
        [
         "75",
         "Nyssa",
         "362-0379",
         "nisi.sem.semper@egestasligulaNullam.edu",
         "2002-04-29",
         "53",
         "2284",
         "6"
        ],
        [
         "76",
         "Omar",
         "1-325-245-9578",
         "elit.erat@utodiovel.co.uk",
         "2012-11-19",
         "34",
         "12163",
         "6"
        ],
        [
         "77",
         "Brynne",
         "1-357-977-8936",
         "aliquet.nec.imperdiet@euismod.org",
         "2013-06-04",
         "22",
         "16551",
         "7"
        ],
        [
         "78",
         "Lenore",
         "1-817-973-5592",
         "Nunc.pulvinar.arcu@Duisatlacus.co.uk",
         "2014-07-07",
         "57",
         "1483",
         "2"
        ],
        [
         "79",
         "Philip",
         "1-113-528-3055",
         "nisi.Cum@malesuadavel.edu",
         "2012-09-17",
         "51",
         "3919",
         "10"
        ],
        [
         "80",
         "Ebony",
         "1-291-360-4704",
         "parturient.montes.nascetur@vitaeerat.com",
         "2014-05-22",
         "59",
         "3600",
         "6"
        ],
        [
         "81",
         "Joy",
         "1-379-384-0646",
         "mi.Aliquam@nislNulla.org",
         "2015-11-15",
         "19",
         "1256",
         "2"
        ],
        [
         "82",
         "Cally",
         "1-658-890-5167",
         "id@dolor.edu",
         "2008-12-13",
         "67",
         "24575",
         "10"
        ],
        [
         "83",
         "Giselle",
         "1-515-799-6913",
         "ipsum.Suspendisse.sagittis@Innec.org",
         "2002-10-31",
         "45",
         "2503",
         "2"
        ],
        [
         "84",
         "Keith",
         "1-319-281-9980",
         "augue.ac@Nulla.co.uk",
         "2008-01-03",
         "33",
         "13348",
         "4"
        ],
        [
         "85",
         "Kennedy",
         "596-0668",
         "nibh.sit@famesac.ca",
         "2011-04-25",
         "41",
         "7272",
         "3"
        ],
        [
         "86",
         "Jack",
         "860-9554",
         "parturient.montes.nascetur@dui.com",
         "2017-03-10",
         "58",
         "14473",
         "5"
        ],
        [
         "87",
         "Karly",
         "1-644-725-7241",
         "tempor.erat@feugiatnon.ca",
         "2011-06-12",
         "25",
         "3715",
         "1"
        ],
        [
         "88",
         "Zeus",
         "1-525-361-5753",
         "non.magna.Nam@nuncid.org",
         "2000-09-15",
         "29",
         "21556",
         "7"
        ],
        [
         "89",
         "Kelly",
         "430-9134",
         "turpis.In@egestasFusce.ca",
         "2016-04-01",
         "55",
         "10110",
         "6"
        ],
        [
         "90",
         "Sigourney",
         "598-8806",
         "sit.amet@sem.net",
         "2002-05-02",
         "42",
         "9145",
         "6"
        ],
        [
         "91",
         "Erica",
         "1-320-339-2705",
         "tristique.senectus@eleifendnondapibus.org",
         "2015-02-23",
         "32",
         "8934",
         "6"
        ],
        [
         "92",
         "Lesley",
         "973-4902",
         "felis.adipiscing.fringilla@Proinvelnisl.co.uk",
         "2004-02-29",
         "19",
         "23547",
         "4"
        ],
        [
         "93",
         "Althea",
         "1-163-702-1244",
         "sit.amet.nulla@elit.co.uk",
         "2002-09-01",
         "24",
         "8818",
         "1"
        ],
        [
         "94",
         "Amir",
         "1-221-717-0093",
         "dapibus.ligula@faucibuslectus.com",
         "2001-02-11",
         "18",
         "20980",
         "4"
        ],
        [
         "95",
         "Jayme",
         "1-641-113-8418",
         "ornare.Fusce@tinciduntcongueturpis.co.uk",
         "2002-05-31",
         "58",
         "23975",
         "4"
        ],
        [
         "96",
         "Amos",
         "729-4665",
         "non.lacinia@pharetra.net",
         "2017-11-27",
         "42",
         "15855",
         "2"
        ],
        [
         "97",
         "Flavia",
         "1-559-270-7164",
         "erat.vel.pede@sedtortor.co.uk",
         "2004-11-14",
         "27",
         "13473",
         "3"
        ],
        [
         "98",
         "Yuli",
         "772-9996",
         "sagittis@nisl.com",
         "2005-04-17",
         "57",
         "1336",
         "5"
        ],
        [
         "99",
         "Ray",
         "1-420-314-2886",
         "ac.risus.Morbi@telluseuaugue.org",
         "2011-12-30",
         "26",
         "5570",
         "1"
        ],
        [
         "100",
         "Cynthia",
         "148-9696",
         "justo.nec.ante@tinciduntvehicula.org",
         "2008-01-23",
         "57",
         "8682",
         "5"
        ]
       ],
       "datasetInfos": [],
       "dbfsResultPath": null,
       "isJsonSchema": true,
       "metadata": {},
       "overflow": false,
       "plotOptions": {
        "customPlotOptions": {},
        "displayType": "table",
        "pivotAggregation": null,
        "pivotColumns": null,
        "xColumns": null,
        "yColumns": null
       },
       "removedWidgets": [],
       "schema": [
        {
         "metadata": "{}",
         "name": "ID",
         "type": "\"string\""
        },
        {
         "metadata": "{}",
         "name": "NOMBRE",
         "type": "\"string\""
        },
        {
         "metadata": "{}",
         "name": "TELEFONO",
         "type": "\"string\""
        },
        {
         "metadata": "{}",
         "name": "CORREO",
         "type": "\"string\""
        },
        {
         "metadata": "{}",
         "name": "FECHA_INGRESO",
         "type": "\"string\""
        },
        {
         "metadata": "{}",
         "name": "EDAD",
         "type": "\"string\""
        },
        {
         "metadata": "{}",
         "name": "SALARIO",
         "type": "\"string\""
        },
        {
         "metadata": "{}",
         "name": "ID_EMPRESA",
         "type": "\"string\""
        }
       ],
       "type": "table"
      }
     },
     "output_type": "display_data"
    }
   ],
   "source": [
    "display(df)"
   ]
  },
  {
   "cell_type": "code",
   "execution_count": 0,
   "metadata": {
    "application/vnd.databricks.v1+cell": {
     "cellMetadata": {
      "byteLimit": 2048000,
      "rowLimit": 10000
     },
     "inputWidgets": {},
     "nuid": "4f74c4ac-3ed9-4d68-849f-6b800b862a72",
     "showTitle": false,
     "tableResultSettingsMap": {},
     "title": ""
    }
   },
   "outputs": [],
   "source": [
    "df.write.mode(\"overwrite\").format(\"parquet\").save(ruta_persona_bronze)\n"
   ]
  }
 ],
 "metadata": {
  "application/vnd.databricks.v1+notebook": {
   "computePreferences": null,
   "dashboards": [],
   "environmentMetadata": null,
   "language": "python",
   "notebookMetadata": {
    "pythonIndentUnit": 2
   },
   "notebookName": "script_bronze_sap_personas",
   "widgets": {}
  }
 },
 "nbformat": 4,
 "nbformat_minor": 0
}
