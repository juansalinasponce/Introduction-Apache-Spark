{
 "cells": [
  {
   "cell_type": "code",
   "execution_count": 0,
   "metadata": {
    "application/vnd.databricks.v1+cell": {
     "cellMetadata": {
      "byteLimit": 2048000,
      "rowLimit": 10000
     },
     "inputWidgets": {},
     "nuid": "c83186ab-e486-4e99-8f88-8f6bcf7ecfe2",
     "showTitle": false,
     "tableResultSettingsMap": {},
     "title": ""
    }
   },
   "outputs": [],
   "source": [
    "from pyspark.sql import SparkSession\n",
    "from pyspark.sql.functions import upper"
   ]
  },
  {
   "cell_type": "code",
   "execution_count": 0,
   "metadata": {
    "application/vnd.databricks.v1+cell": {
     "cellMetadata": {
      "byteLimit": 2048000,
      "rowLimit": 10000
     },
     "inputWidgets": {},
     "nuid": "6d105dee-58b0-4d62-8e5f-bdfcc87859ad",
     "showTitle": false,
     "tableResultSettingsMap": {},
     "title": ""
    }
   },
   "outputs": [],
   "source": [
    "spark = SparkSession.builder.getOrCreate()"
   ]
  },
  {
   "cell_type": "code",
   "execution_count": 0,
   "metadata": {
    "application/vnd.databricks.v1+cell": {
     "cellMetadata": {
      "byteLimit": 2048000,
      "rowLimit": 10000
     },
     "inputWidgets": {},
     "nuid": "05ed26cd-ca03-4c73-8889-20bd888c197f",
     "showTitle": false,
     "tableResultSettingsMap": {},
     "title": ""
    }
   },
   "outputs": [
    {
     "output_type": "display_data",
     "data": {
      "text/html": [
       "<style scoped>\n",
       "  .table-result-container {\n",
       "    max-height: 300px;\n",
       "    overflow: auto;\n",
       "  }\n",
       "  table, th, td {\n",
       "    border: 1px solid black;\n",
       "    border-collapse: collapse;\n",
       "  }\n",
       "  th, td {\n",
       "    padding: 5px;\n",
       "  }\n",
       "  th {\n",
       "    text-align: left;\n",
       "  }\n",
       "</style><div class='table-result-container'><table class='table-result'><thead style='background-color: white'><tr><th>ID</th><th>EMPRESA_NAME</th></tr></thead><tbody><tr><td>1</td><td>Walmart</td></tr><tr><td>2</td><td>Microsoft</td></tr><tr><td>3</td><td>Apple</td></tr><tr><td>4</td><td>Toyota</td></tr><tr><td>5</td><td>Amazon</td></tr><tr><td>6</td><td>Google</td></tr><tr><td>7</td><td>Samsung</td></tr><tr><td>8</td><td>HP</td></tr><tr><td>9</td><td>IBM</td></tr><tr><td>10</td><td>Sony</td></tr></tbody></table></div>"
      ]
     },
     "metadata": {
      "application/vnd.databricks.v1+output": {
       "addedWidgets": {},
       "aggData": [],
       "aggError": "",
       "aggOverflow": false,
       "aggSchema": [],
       "aggSeriesLimitReached": false,
       "aggType": "",
       "arguments": {},
       "columnCustomDisplayInfos": {},
       "data": [
        [
         "1",
         "Walmart"
        ],
        [
         "2",
         "Microsoft"
        ],
        [
         "3",
         "Apple"
        ],
        [
         "4",
         "Toyota"
        ],
        [
         "5",
         "Amazon"
        ],
        [
         "6",
         "Google"
        ],
        [
         "7",
         "Samsung"
        ],
        [
         "8",
         "HP"
        ],
        [
         "9",
         "IBM"
        ],
        [
         "10",
         "Sony"
        ]
       ],
       "datasetInfos": [],
       "dbfsResultPath": null,
       "isJsonSchema": true,
       "metadata": {},
       "overflow": false,
       "plotOptions": {
        "customPlotOptions": {},
        "displayType": "table",
        "pivotAggregation": null,
        "pivotColumns": null,
        "xColumns": null,
        "yColumns": null
       },
       "removedWidgets": [],
       "schema": [
        {
         "metadata": "{}",
         "name": "ID",
         "type": "\"string\""
        },
        {
         "metadata": "{}",
         "name": "EMPRESA_NAME",
         "type": "\"string\""
        }
       ],
       "type": "table"
      }
     },
     "output_type": "display_data"
    }
   ],
   "source": [
    "bucket = 'datalake-jmsp-dmc9'\n",
    "ruta_bronze = f\"gs://{bucket}/bronze/sap/empresa/\"\n",
    "ruta_silver = f\"gs://{bucket}/silver/sap/empresa/\"\n",
    "\n",
    "df = spark.read.format(\"parquet\").option(\"header\",\"true\").load(ruta_bronze)\n",
    "display(df)"
   ]
  },
  {
   "cell_type": "code",
   "execution_count": 0,
   "metadata": {
    "application/vnd.databricks.v1+cell": {
     "cellMetadata": {
      "byteLimit": 2048000,
      "rowLimit": 10000
     },
     "inputWidgets": {},
     "nuid": "58b4b4ef-bffe-457a-afc7-4842eba8156a",
     "showTitle": false,
     "tableResultSettingsMap": {},
     "title": ""
    }
   },
   "outputs": [
    {
     "output_type": "stream",
     "name": "stdout",
     "output_type": "stream",
     "text": [
      "root\n |-- ID: string (nullable = true)\n |-- EMPRESA_NAME: string (nullable = true)\n\n"
     ]
    }
   ],
   "source": [
    "df.printSchema()"
   ]
  },
  {
   "cell_type": "code",
   "execution_count": 0,
   "metadata": {
    "application/vnd.databricks.v1+cell": {
     "cellMetadata": {
      "byteLimit": 2048000,
      "rowLimit": 10000
     },
     "inputWidgets": {},
     "nuid": "d169d837-211b-406b-aa4b-e464772d4dd2",
     "showTitle": false,
     "tableResultSettingsMap": {},
     "title": ""
    }
   },
   "outputs": [
    {
     "output_type": "display_data",
     "data": {
      "text/html": [
       "<style scoped>\n",
       "  .table-result-container {\n",
       "    max-height: 300px;\n",
       "    overflow: auto;\n",
       "  }\n",
       "  table, th, td {\n",
       "    border: 1px solid black;\n",
       "    border-collapse: collapse;\n",
       "  }\n",
       "  th, td {\n",
       "    padding: 5px;\n",
       "  }\n",
       "  th {\n",
       "    text-align: left;\n",
       "  }\n",
       "</style><div class='table-result-container'><table class='table-result'><thead style='background-color: white'><tr><th>ID</th><th>EMPRESA_NAME</th></tr></thead><tbody><tr><td>1</td><td>WALMART</td></tr><tr><td>2</td><td>MICROSOFT</td></tr><tr><td>3</td><td>APPLE</td></tr><tr><td>4</td><td>TOYOTA</td></tr><tr><td>5</td><td>AMAZON</td></tr><tr><td>6</td><td>GOOGLE</td></tr><tr><td>7</td><td>SAMSUNG</td></tr><tr><td>8</td><td>HP</td></tr><tr><td>9</td><td>IBM</td></tr><tr><td>10</td><td>SONY</td></tr></tbody></table></div>"
      ]
     },
     "metadata": {
      "application/vnd.databricks.v1+output": {
       "addedWidgets": {},
       "aggData": [],
       "aggError": "",
       "aggOverflow": false,
       "aggSchema": [],
       "aggSeriesLimitReached": false,
       "aggType": "",
       "arguments": {},
       "columnCustomDisplayInfos": {},
       "data": [
        [
         "1",
         "WALMART"
        ],
        [
         "2",
         "MICROSOFT"
        ],
        [
         "3",
         "APPLE"
        ],
        [
         "4",
         "TOYOTA"
        ],
        [
         "5",
         "AMAZON"
        ],
        [
         "6",
         "GOOGLE"
        ],
        [
         "7",
         "SAMSUNG"
        ],
        [
         "8",
         "HP"
        ],
        [
         "9",
         "IBM"
        ],
        [
         "10",
         "SONY"
        ]
       ],
       "datasetInfos": [],
       "dbfsResultPath": null,
       "isJsonSchema": true,
       "metadata": {},
       "overflow": false,
       "plotOptions": {
        "customPlotOptions": {},
        "displayType": "table",
        "pivotAggregation": null,
        "pivotColumns": null,
        "xColumns": null,
        "yColumns": null
       },
       "removedWidgets": [],
       "schema": [
        {
         "metadata": "{}",
         "name": "ID",
         "type": "\"string\""
        },
        {
         "metadata": "{}",
         "name": "EMPRESA_NAME",
         "type": "\"string\""
        }
       ],
       "type": "table"
      }
     },
     "output_type": "display_data"
    }
   ],
   "source": [
    "df_2 = df.withColumn('EMPRESA_NAME',upper(col('EMPRESA_NAME')))\n",
    "display(df_2)\n"
   ]
  },
  {
   "cell_type": "code",
   "execution_count": 0,
   "metadata": {
    "application/vnd.databricks.v1+cell": {
     "cellMetadata": {
      "byteLimit": 2048000,
      "rowLimit": 10000
     },
     "inputWidgets": {},
     "nuid": "7f56cec3-941e-4ab3-8ae4-d1014e05425e",
     "showTitle": false,
     "tableResultSettingsMap": {},
     "title": ""
    }
   },
   "outputs": [],
   "source": [
    "df_2.write.mode(\"overwrite\").format(\"delta\").save(ruta_silver)\n"
   ]
  }
 ],
 "metadata": {
  "application/vnd.databricks.v1+notebook": {
   "computePreferences": null,
   "dashboards": [],
   "environmentMetadata": null,
   "language": "python",
   "notebookMetadata": {
    "pythonIndentUnit": 2
   },
   "notebookName": "script_silver_sap_empresas",
   "widgets": {}
  }
 },
 "nbformat": 4,
 "nbformat_minor": 0
}
