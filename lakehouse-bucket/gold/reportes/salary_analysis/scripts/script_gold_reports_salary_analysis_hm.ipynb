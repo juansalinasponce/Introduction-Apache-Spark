{
 "cells": [
  {
   "cell_type": "code",
   "execution_count": 0,
   "metadata": {
    "application/vnd.databricks.v1+cell": {
     "cellMetadata": {
      "byteLimit": 2048000,
      "rowLimit": 10000
     },
     "inputWidgets": {},
     "nuid": "53f8e96c-fdc6-4acd-b3b7-b6f72626e0fe",
     "showTitle": false,
     "tableResultSettingsMap": {},
     "title": ""
    }
   },
   "outputs": [],
   "source": [
    "from pyspark.sql import SparkSession\n",
    "from pyspark.sql.types import *\n",
    "from pyspark.sql.functions import *"
   ]
  },
  {
   "cell_type": "code",
   "execution_count": 0,
   "metadata": {
    "application/vnd.databricks.v1+cell": {
     "cellMetadata": {
      "byteLimit": 2048000,
      "rowLimit": 10000
     },
     "inputWidgets": {},
     "nuid": "1df6ea0c-6d1f-4e3b-b87f-18f427008f16",
     "showTitle": false,
     "tableResultSettingsMap": {},
     "title": ""
    }
   },
   "outputs": [
    {
     "output_type": "display_data",
     "data": {
      "text/html": [
       "<style scoped>\n",
       "  .table-result-container {\n",
       "    max-height: 300px;\n",
       "    overflow: auto;\n",
       "  }\n",
       "  table, th, td {\n",
       "    border: 1px solid black;\n",
       "    border-collapse: collapse;\n",
       "  }\n",
       "  th, td {\n",
       "    padding: 5px;\n",
       "  }\n",
       "  th {\n",
       "    text-align: left;\n",
       "  }\n",
       "</style><div class='table-result-container'><table class='table-result'><thead style='background-color: white'><tr><th>ID</th><th>NOMBRE</th><th>TELEFONO</th><th>CORREO</th><th>FECHA_INGRESO</th><th>EDAD</th><th>SALARIO</th><th>ID_EMPRESA</th></tr></thead><tbody><tr><td>1</td><td>Carl</td><td>17456339145</td><td>arcu.Sed.et@ante.co.uk</td><td>2004-04-23</td><td>32</td><td>20095.0</td><td>5.0</td></tr><tr><td>2</td><td>Priscilla</td><td>1552498</td><td>Donec.egestas.Aliquam@volutpatnunc.edu</td><td>2019-02-17</td><td>34</td><td>9298.0</td><td>2.0</td></tr><tr><td>3</td><td>Jocelyn</td><td>12049568594</td><td>amet.diam@lobortis.co.uk</td><td>2002-08-01</td><td>27</td><td>10853.0</td><td>3.0</td></tr><tr><td>4</td><td>Aidan</td><td>17198629385</td><td>euismod.et.commodo@nibhlaciniaorci.edu</td><td>2018-11-06</td><td>29</td><td>3387.0</td><td>10.0</td></tr><tr><td>5</td><td>Leandra</td><td>8398044</td><td>at@pretiumetrutrum.com</td><td>2002-10-10</td><td>41</td><td>22102.0</td><td>1.0</td></tr><tr><td>6</td><td>Bert</td><td>7974453</td><td>a.felis.ullamcorper@arcu.org</td><td>2017-04-25</td><td>70</td><td>7800.0</td><td>7.0</td></tr><tr><td>7</td><td>Mark</td><td>16801026792</td><td>Quisque.ac@placerat.ca</td><td>2006-04-21</td><td>52</td><td>8112.0</td><td>5.0</td></tr><tr><td>8</td><td>Jonah</td><td>2142975</td><td>eu.ultrices.sit@vitae.ca</td><td>2017-10-07</td><td>23</td><td>17040.0</td><td>5.0</td></tr><tr><td>9</td><td>Hanae</td><td>9352277</td><td>eu@Nunc.ca</td><td>2003-05-25</td><td>69</td><td>6834.0</td><td>3.0</td></tr><tr><td>10</td><td>Cadman</td><td>18665612701</td><td>orci.adipiscing.non@semperNam.ca</td><td>2001-05-19</td><td>19</td><td>7996.0</td><td>7.0</td></tr><tr><td>11</td><td>Melyssa</td><td>5967736</td><td>vel@vulputateposuerevulputate.net</td><td>2008-10-14</td><td>48</td><td>4913.0</td><td>8.0</td></tr><tr><td>12</td><td>Tanner</td><td>17397767897</td><td>arcu.Aliquam.ultrices@sociis.com</td><td>2011-05-10</td><td>24</td><td>19943.0</td><td>8.0</td></tr><tr><td>13</td><td>Trevor</td><td>5121955</td><td>Nunc.quis.arcu@egestasa.org</td><td>2010-08-06</td><td>34</td><td>9501.0</td><td>5.0</td></tr><tr><td>14</td><td>Allen</td><td>7332795</td><td>felis.Donec@necleo.org</td><td>2005-03-07</td><td>59</td><td>16289.0</td><td>2.0</td></tr><tr><td>15</td><td>Wanda</td><td>3596973</td><td>Nam.nulla.magna@In.org</td><td>2005-08-21</td><td>27</td><td>1539.0</td><td>5.0</td></tr><tr><td>16</td><td>Alden</td><td>3418522</td><td>odio@morbitristiquesenectus.ca</td><td>2006-12-05</td><td>26</td><td>3377.0</td><td>2.0</td></tr><tr><td>17</td><td>Omar</td><td>7201543</td><td>Phasellus.vitae.mauris@sollicitudin.net</td><td>2014-06-24</td><td>60</td><td>6851.0</td><td>6.0</td></tr><tr><td>18</td><td>Owen</td><td>11673357541</td><td>sociis@erat.com</td><td>2002-04-09</td><td>34</td><td>4759.0</td><td>7.0</td></tr><tr><td>19</td><td>Laura</td><td>19746232057</td><td>mollis@ornare.ca</td><td>2017-03-09</td><td>70</td><td>17403.0</td><td>4.0</td></tr><tr><td>20</td><td>Emery</td><td>16728400264</td><td>at.nisi@vel.org</td><td>2004-02-27</td><td>24</td><td>18752.0</td><td>9.0</td></tr><tr><td>21</td><td>Carissa</td><td>13008770859</td><td>dignissim.pharetra.Nam@Pellentesqueultriciesdignissim.com</td><td>2011-10-16</td><td>31</td><td>1952.0</td><td>10.0</td></tr><tr><td>22</td><td>Kibo</td><td>9708006</td><td>scelerisque.lorem@mattis.org</td><td>2012-04-25</td><td>22</td><td>7449.0</td><td>2.0</td></tr><tr><td>23</td><td>Samson</td><td>14301886663</td><td>urna.justo.faucibus@neceleifendnon.net</td><td>2011-12-15</td><td>51</td><td>8099.0</td><td>6.0</td></tr><tr><td>24</td><td>Amaya</td><td>14488269497</td><td>ullamcorper.magna@dictumultriciesligula.org</td><td>2000-09-18</td><td>24</td><td>1801.0</td><td>8.0</td></tr><tr><td>25</td><td>Pearl</td><td>18502023373</td><td>vel.convallis@rhoncus.co.uk</td><td>2018-12-21</td><td>52</td><td>14756.0</td><td>6.0</td></tr><tr><td>26</td><td>Brenden</td><td>14557269413</td><td>elit.pede.malesuada@liberomaurisaliquam.org</td><td>2000-03-17</td><td>33</td><td>20549.0</td><td>7.0</td></tr><tr><td>27</td><td>Alexander</td><td>9120676</td><td>semper.auctor.Mauris@mollislectuspede.edu</td><td>2000-08-16</td><td>55</td><td>13813.0</td><td>6.0</td></tr><tr><td>28</td><td>Stephen</td><td>3262020</td><td>arcu.Aliquam.ultrices@acnullaIn.co.uk</td><td>2016-09-04</td><td>53</td><td>9469.0</td><td>8.0</td></tr><tr><td>29</td><td>Jana</td><td>15641065562</td><td>sed.dolor.Fusce@Sedet.co.uk</td><td>2008-10-18</td><td>39</td><td>6483.0</td><td>2.0</td></tr><tr><td>30</td><td>Clayton</td><td>15996145185</td><td>est.Nunc@dictumeuplacerat.com</td><td>2008-10-08</td><td>52</td><td>9505.0</td><td>8.0</td></tr><tr><td>31</td><td>Rylee</td><td>3065447</td><td>Sed.nunc@turpis.edu</td><td>2001-09-17</td><td>47</td><td>21591.0</td><td>3.0</td></tr><tr><td>32</td><td>Gisela</td><td>4068031</td><td>Praesent.luctus@dui.co.uk</td><td>2002-08-21</td><td>67</td><td>6497.0</td><td>1.0</td></tr><tr><td>33</td><td>Jin</td><td>16207793366</td><td>est.Nunc.ullamcorper@nullaInteger.co.uk</td><td>2016-11-07</td><td>42</td><td>22038.0</td><td>2.0</td></tr><tr><td>34</td><td>Lila</td><td>17037774150</td><td>viverra@sit.edu</td><td>2015-02-26</td><td>48</td><td>24305.0</td><td>4.0</td></tr><tr><td>35</td><td>Aurora</td><td>18657513479</td><td>magna@Cras.net</td><td>2017-10-21</td><td>54</td><td>4588.0</td><td>5.0</td></tr><tr><td>36</td><td>Keely</td><td>18824033531</td><td>taciti@neceleifendnon.edu</td><td>2008-02-03</td><td>41</td><td>10373.0</td><td>9.0</td></tr><tr><td>37</td><td>Inga</td><td>7676448</td><td>Mauris.quis.turpis@euismodurna.net</td><td>2016-12-31</td><td>41</td><td>8562.0</td><td>3.0</td></tr><tr><td>38</td><td>Irma</td><td>7228997</td><td>ac.urna.Ut@a.ca</td><td>2013-10-14</td><td>58</td><td>6747.0</td><td>8.0</td></tr><tr><td>39</td><td>Carolyn</td><td>8467060</td><td>metus.Aenean.sed@odiosempercursus.ca</td><td>2013-05-29</td><td>64</td><td>22838.0</td><td>6.0</td></tr><tr><td>40</td><td>Ross</td><td>3870945</td><td>amet.faucibus@ipsum.edu</td><td>2009-07-27</td><td>67</td><td>14285.0</td><td>3.0</td></tr><tr><td>41</td><td>Wynne</td><td>7110298</td><td>eget@dolorQuisque.ca</td><td>2007-07-24</td><td>31</td><td>19522.0</td><td>4.0</td></tr><tr><td>42</td><td>Wanda</td><td>9413970</td><td>auctor.velit@sem.com</td><td>2011-12-12</td><td>42</td><td>5419.0</td><td>9.0</td></tr><tr><td>43</td><td>Yetta</td><td>9860220</td><td>vitae@dapibusrutrumjusto.co.uk</td><td>2008-03-24</td><td>61</td><td>21452.0</td><td>2.0</td></tr><tr><td>44</td><td>Azalia</td><td>5828465</td><td>eu.odio@a.co.uk</td><td>2009-12-14</td><td>27</td><td>16735.0</td><td>10.0</td></tr><tr><td>45</td><td>Kylynn</td><td>14274638734</td><td>porttitor.eros.nec@Integer.net</td><td>2006-12-19</td><td>22</td><td>7040.0</td><td>7.0</td></tr><tr><td>46</td><td>Camden</td><td>16635403304</td><td>leo@dignissimpharetraNam.net</td><td>2003-10-19</td><td>30</td><td>7860.0</td><td>10.0</td></tr><tr><td>47</td><td>Vernon</td><td>7358400</td><td>leo@mattisIntegereu.net</td><td>2000-11-23</td><td>35</td><td>7109.0</td><td>10.0</td></tr><tr><td>48</td><td>Illiana</td><td>5723648</td><td>montes.nascetur.ridiculus@hendreritneque.co.uk</td><td>2017-07-25</td><td>18</td><td>1454.0</td><td>8.0</td></tr><tr><td>49</td><td>Logan</td><td>7067700</td><td>neque@sedpede.net</td><td>2008-03-07</td><td>63</td><td>4963.0</td><td>7.0</td></tr><tr><td>50</td><td>Ross</td><td>15872851837</td><td>at.risus@milaciniamattis.com</td><td>2009-11-03</td><td>31</td><td>19092.0</td><td>5.0</td></tr><tr><td>51</td><td>Damon</td><td>3687630</td><td>nunc@dapibusquamquis.co.uk</td><td>2016-08-11</td><td>49</td><td>2669.0</td><td>5.0</td></tr><tr><td>52</td><td>Whoopi</td><td>16715525009</td><td>semper@Cras.ca</td><td>2019-01-21</td><td>22</td><td>23051.0</td><td>9.0</td></tr><tr><td>53</td><td>Zachery</td><td>3148083</td><td>hymenaeos.Mauris@mollis.ca</td><td>2001-01-06</td><td>22</td><td>23820.0</td><td>3.0</td></tr><tr><td>54</td><td>Lars</td><td>15546000855</td><td>commodo@Nam.edu</td><td>2005-06-22</td><td>25</td><td>20573.0</td><td>1.0</td></tr><tr><td>55</td><td>Jennifer</td><td>7556162</td><td>id@ultrices.com</td><td>2011-10-19</td><td>64</td><td>19013.0</td><td>9.0</td></tr><tr><td>56</td><td>Colby</td><td>15178278614</td><td>nec.ligula@euneque.ca</td><td>2014-03-05</td><td>19</td><td>15496.0</td><td>7.0</td></tr><tr><td>57</td><td>Jillian</td><td>12862850336</td><td>ipsum@luctus.org</td><td>2006-06-02</td><td>47</td><td>13445.0</td><td>8.0</td></tr><tr><td>58</td><td>Igor</td><td>13616038276</td><td>mattis.Integer.eu@hendreritconsectetuer.net</td><td>2003-07-18</td><td>37</td><td>6191.0</td><td>3.0</td></tr><tr><td>59</td><td>Quemby</td><td>9305882</td><td>lorem.ut.aliquam@nuncsed.org</td><td>2017-10-04</td><td>26</td><td>12092.0</td><td>5.0</td></tr><tr><td>60</td><td>Bernard</td><td>4928823</td><td>vel.faucibus@Donec.edu</td><td>2005-04-15</td><td>27</td><td>10825.0</td><td>2.0</td></tr><tr><td>61</td><td>Abel</td><td>12355305916</td><td>Curae@afacilisis.org</td><td>2011-11-08</td><td>33</td><td>15070.0</td><td>9.0</td></tr><tr><td>62</td><td>Amelia</td><td>1199184</td><td>Donec.egestas.Aliquam@turpisvitae.co.uk</td><td>2016-01-15</td><td>35</td><td>6042.0</td><td>8.0</td></tr><tr><td>63</td><td>Sade</td><td>1125494</td><td>In@utquam.com</td><td>2012-04-05</td><td>70</td><td>11112.0</td><td>6.0</td></tr><tr><td>64</td><td>Graiden</td><td>8744897</td><td>massa.Mauris.vestibulum@sitamet.co.uk</td><td>2010-06-10</td><td>28</td><td>22037.0</td><td>3.0</td></tr><tr><td>65</td><td>Nehru</td><td>1429576</td><td>nibh@sagittis.org</td><td>2017-08-13</td><td>34</td><td>12423.0</td><td>4.0</td></tr><tr><td>66</td><td>Adrian</td><td>2208905</td><td>enim@mollisPhasellus.com</td><td>2018-03-15</td><td>46</td><td>22953.0</td><td>2.0</td></tr><tr><td>67</td><td>Buffy</td><td>15381902276</td><td>amet@at.ca</td><td>2005-10-21</td><td>38</td><td>15116.0</td><td>2.0</td></tr><tr><td>68</td><td>Hayes</td><td>7128783</td><td>at@ametdiam.net</td><td>2011-12-31</td><td>31</td><td>7523.0</td><td>5.0</td></tr><tr><td>69</td><td>Halee</td><td>12089968549</td><td>interdum.feugiat@imperdietornare.edu</td><td>2008-12-25</td><td>30</td><td>16782.0</td><td>3.0</td></tr><tr><td>70</td><td>Suki</td><td>16544188537</td><td>varius.orci.in@congueelit.co.uk</td><td>2010-05-15</td><td>43</td><td>12029.0</td><td>1.0</td></tr><tr><td>71</td><td>Doris</td><td>5088624</td><td>Curabitur.vel.lectus@mauris.co.uk</td><td>2005-04-28</td><td>23</td><td>11538.0</td><td>6.0</td></tr><tr><td>72</td><td>Tallulah</td><td>13147208141</td><td>non@idmagnaet.ca</td><td>2000-04-03</td><td>46</td><td>9867.0</td><td>5.0</td></tr><tr><td>73</td><td>Fiona</td><td>18662588730</td><td>sit@sedsemegestas.net</td><td>2009-09-27</td><td>42</td><td>9960.0</td><td>10.0</td></tr><tr><td>74</td><td>Kaitlin</td><td>8170415</td><td>Etiam.laoreet.libero@odiosagittissemper.net</td><td>2009-05-22</td><td>56</td><td>6515.0</td><td>10.0</td></tr><tr><td>75</td><td>Nyssa</td><td>3620379</td><td>nisi.sem.semper@egestasligulaNullam.edu</td><td>2002-04-29</td><td>53</td><td>2284.0</td><td>6.0</td></tr><tr><td>76</td><td>Omar</td><td>13252459578</td><td>elit.erat@utodiovel.co.uk</td><td>2012-11-19</td><td>34</td><td>12163.0</td><td>6.0</td></tr><tr><td>77</td><td>Brynne</td><td>13579778936</td><td>aliquet.nec.imperdiet@euismod.org</td><td>2013-06-04</td><td>22</td><td>16551.0</td><td>7.0</td></tr><tr><td>78</td><td>Lenore</td><td>18179735592</td><td>Nunc.pulvinar.arcu@Duisatlacus.co.uk</td><td>2014-07-07</td><td>57</td><td>1483.0</td><td>2.0</td></tr><tr><td>79</td><td>Philip</td><td>11135283055</td><td>nisi.Cum@malesuadavel.edu</td><td>2012-09-17</td><td>51</td><td>3919.0</td><td>10.0</td></tr><tr><td>80</td><td>Ebony</td><td>12913604704</td><td>parturient.montes.nascetur@vitaeerat.com</td><td>2014-05-22</td><td>59</td><td>3600.0</td><td>6.0</td></tr><tr><td>81</td><td>Joy</td><td>13793840646</td><td>mi.Aliquam@nislNulla.org</td><td>2015-11-15</td><td>19</td><td>1256.0</td><td>2.0</td></tr><tr><td>82</td><td>Cally</td><td>16588905167</td><td>id@dolor.edu</td><td>2008-12-13</td><td>67</td><td>24575.0</td><td>10.0</td></tr><tr><td>83</td><td>Giselle</td><td>15157996913</td><td>ipsum.Suspendisse.sagittis@Innec.org</td><td>2002-10-31</td><td>45</td><td>2503.0</td><td>2.0</td></tr><tr><td>84</td><td>Keith</td><td>13192819980</td><td>augue.ac@Nulla.co.uk</td><td>2008-01-03</td><td>33</td><td>13348.0</td><td>4.0</td></tr><tr><td>85</td><td>Kennedy</td><td>5960668</td><td>nibh.sit@famesac.ca</td><td>2011-04-25</td><td>41</td><td>7272.0</td><td>3.0</td></tr><tr><td>86</td><td>Jack</td><td>8609554</td><td>parturient.montes.nascetur@dui.com</td><td>2017-03-10</td><td>58</td><td>14473.0</td><td>5.0</td></tr><tr><td>87</td><td>Karly</td><td>16447257241</td><td>tempor.erat@feugiatnon.ca</td><td>2011-06-12</td><td>25</td><td>3715.0</td><td>1.0</td></tr><tr><td>88</td><td>Zeus</td><td>15253615753</td><td>non.magna.Nam@nuncid.org</td><td>2000-09-15</td><td>29</td><td>21556.0</td><td>7.0</td></tr><tr><td>89</td><td>Kelly</td><td>4309134</td><td>turpis.In@egestasFusce.ca</td><td>2016-04-01</td><td>55</td><td>10110.0</td><td>6.0</td></tr><tr><td>90</td><td>Sigourney</td><td>5988806</td><td>sit.amet@sem.net</td><td>2002-05-02</td><td>42</td><td>9145.0</td><td>6.0</td></tr><tr><td>91</td><td>Erica</td><td>13203392705</td><td>tristique.senectus@eleifendnondapibus.org</td><td>2015-02-23</td><td>32</td><td>8934.0</td><td>6.0</td></tr><tr><td>92</td><td>Lesley</td><td>9734902</td><td>felis.adipiscing.fringilla@Proinvelnisl.co.uk</td><td>2004-02-29</td><td>19</td><td>23547.0</td><td>4.0</td></tr><tr><td>93</td><td>Althea</td><td>11637021244</td><td>sit.amet.nulla@elit.co.uk</td><td>2002-09-01</td><td>24</td><td>8818.0</td><td>1.0</td></tr><tr><td>94</td><td>Amir</td><td>12217170093</td><td>dapibus.ligula@faucibuslectus.com</td><td>2001-02-11</td><td>18</td><td>20980.0</td><td>4.0</td></tr><tr><td>95</td><td>Jayme</td><td>16411138418</td><td>ornare.Fusce@tinciduntcongueturpis.co.uk</td><td>2002-05-31</td><td>58</td><td>23975.0</td><td>4.0</td></tr><tr><td>96</td><td>Amos</td><td>7294665</td><td>non.lacinia@pharetra.net</td><td>2017-11-27</td><td>42</td><td>15855.0</td><td>2.0</td></tr><tr><td>97</td><td>Flavia</td><td>15592707164</td><td>erat.vel.pede@sedtortor.co.uk</td><td>2004-11-14</td><td>27</td><td>13473.0</td><td>3.0</td></tr><tr><td>98</td><td>Yuli</td><td>7729996</td><td>sagittis@nisl.com</td><td>2005-04-17</td><td>57</td><td>1336.0</td><td>5.0</td></tr><tr><td>99</td><td>Ray</td><td>14203142886</td><td>ac.risus.Morbi@telluseuaugue.org</td><td>2011-12-30</td><td>26</td><td>5570.0</td><td>1.0</td></tr><tr><td>100</td><td>Cynthia</td><td>1489696</td><td>justo.nec.ante@tinciduntvehicula.org</td><td>2008-01-23</td><td>57</td><td>8682.0</td><td>5.0</td></tr></tbody></table></div>"
      ]
     },
     "metadata": {
      "application/vnd.databricks.v1+output": {
       "addedWidgets": {},
       "aggData": [],
       "aggError": "",
       "aggOverflow": false,
       "aggSchema": [],
       "aggSeriesLimitReached": false,
       "aggType": "",
       "arguments": {},
       "columnCustomDisplayInfos": {},
       "data": [
        [
         1,
         "Carl",
         "17456339145",
         "arcu.Sed.et@ante.co.uk",
         "2004-04-23",
         32,
         20095.0,
         5.0
        ],
        [
         2,
         "Priscilla",
         "1552498",
         "Donec.egestas.Aliquam@volutpatnunc.edu",
         "2019-02-17",
         34,
         9298.0,
         2.0
        ],
        [
         3,
         "Jocelyn",
         "12049568594",
         "amet.diam@lobortis.co.uk",
         "2002-08-01",
         27,
         10853.0,
         3.0
        ],
        [
         4,
         "Aidan",
         "17198629385",
         "euismod.et.commodo@nibhlaciniaorci.edu",
         "2018-11-06",
         29,
         3387.0,
         10.0
        ],
        [
         5,
         "Leandra",
         "8398044",
         "at@pretiumetrutrum.com",
         "2002-10-10",
         41,
         22102.0,
         1.0
        ],
        [
         6,
         "Bert",
         "7974453",
         "a.felis.ullamcorper@arcu.org",
         "2017-04-25",
         70,
         7800.0,
         7.0
        ],
        [
         7,
         "Mark",
         "16801026792",
         "Quisque.ac@placerat.ca",
         "2006-04-21",
         52,
         8112.0,
         5.0
        ],
        [
         8,
         "Jonah",
         "2142975",
         "eu.ultrices.sit@vitae.ca",
         "2017-10-07",
         23,
         17040.0,
         5.0
        ],
        [
         9,
         "Hanae",
         "9352277",
         "eu@Nunc.ca",
         "2003-05-25",
         69,
         6834.0,
         3.0
        ],
        [
         10,
         "Cadman",
         "18665612701",
         "orci.adipiscing.non@semperNam.ca",
         "2001-05-19",
         19,
         7996.0,
         7.0
        ],
        [
         11,
         "Melyssa",
         "5967736",
         "vel@vulputateposuerevulputate.net",
         "2008-10-14",
         48,
         4913.0,
         8.0
        ],
        [
         12,
         "Tanner",
         "17397767897",
         "arcu.Aliquam.ultrices@sociis.com",
         "2011-05-10",
         24,
         19943.0,
         8.0
        ],
        [
         13,
         "Trevor",
         "5121955",
         "Nunc.quis.arcu@egestasa.org",
         "2010-08-06",
         34,
         9501.0,
         5.0
        ],
        [
         14,
         "Allen",
         "7332795",
         "felis.Donec@necleo.org",
         "2005-03-07",
         59,
         16289.0,
         2.0
        ],
        [
         15,
         "Wanda",
         "3596973",
         "Nam.nulla.magna@In.org",
         "2005-08-21",
         27,
         1539.0,
         5.0
        ],
        [
         16,
         "Alden",
         "3418522",
         "odio@morbitristiquesenectus.ca",
         "2006-12-05",
         26,
         3377.0,
         2.0
        ],
        [
         17,
         "Omar",
         "7201543",
         "Phasellus.vitae.mauris@sollicitudin.net",
         "2014-06-24",
         60,
         6851.0,
         6.0
        ],
        [
         18,
         "Owen",
         "11673357541",
         "sociis@erat.com",
         "2002-04-09",
         34,
         4759.0,
         7.0
        ],
        [
         19,
         "Laura",
         "19746232057",
         "mollis@ornare.ca",
         "2017-03-09",
         70,
         17403.0,
         4.0
        ],
        [
         20,
         "Emery",
         "16728400264",
         "at.nisi@vel.org",
         "2004-02-27",
         24,
         18752.0,
         9.0
        ],
        [
         21,
         "Carissa",
         "13008770859",
         "dignissim.pharetra.Nam@Pellentesqueultriciesdignissim.com",
         "2011-10-16",
         31,
         1952.0,
         10.0
        ],
        [
         22,
         "Kibo",
         "9708006",
         "scelerisque.lorem@mattis.org",
         "2012-04-25",
         22,
         7449.0,
         2.0
        ],
        [
         23,
         "Samson",
         "14301886663",
         "urna.justo.faucibus@neceleifendnon.net",
         "2011-12-15",
         51,
         8099.0,
         6.0
        ],
        [
         24,
         "Amaya",
         "14488269497",
         "ullamcorper.magna@dictumultriciesligula.org",
         "2000-09-18",
         24,
         1801.0,
         8.0
        ],
        [
         25,
         "Pearl",
         "18502023373",
         "vel.convallis@rhoncus.co.uk",
         "2018-12-21",
         52,
         14756.0,
         6.0
        ],
        [
         26,
         "Brenden",
         "14557269413",
         "elit.pede.malesuada@liberomaurisaliquam.org",
         "2000-03-17",
         33,
         20549.0,
         7.0
        ],
        [
         27,
         "Alexander",
         "9120676",
         "semper.auctor.Mauris@mollislectuspede.edu",
         "2000-08-16",
         55,
         13813.0,
         6.0
        ],
        [
         28,
         "Stephen",
         "3262020",
         "arcu.Aliquam.ultrices@acnullaIn.co.uk",
         "2016-09-04",
         53,
         9469.0,
         8.0
        ],
        [
         29,
         "Jana",
         "15641065562",
         "sed.dolor.Fusce@Sedet.co.uk",
         "2008-10-18",
         39,
         6483.0,
         2.0
        ],
        [
         30,
         "Clayton",
         "15996145185",
         "est.Nunc@dictumeuplacerat.com",
         "2008-10-08",
         52,
         9505.0,
         8.0
        ],
        [
         31,
         "Rylee",
         "3065447",
         "Sed.nunc@turpis.edu",
         "2001-09-17",
         47,
         21591.0,
         3.0
        ],
        [
         32,
         "Gisela",
         "4068031",
         "Praesent.luctus@dui.co.uk",
         "2002-08-21",
         67,
         6497.0,
         1.0
        ],
        [
         33,
         "Jin",
         "16207793366",
         "est.Nunc.ullamcorper@nullaInteger.co.uk",
         "2016-11-07",
         42,
         22038.0,
         2.0
        ],
        [
         34,
         "Lila",
         "17037774150",
         "viverra@sit.edu",
         "2015-02-26",
         48,
         24305.0,
         4.0
        ],
        [
         35,
         "Aurora",
         "18657513479",
         "magna@Cras.net",
         "2017-10-21",
         54,
         4588.0,
         5.0
        ],
        [
         36,
         "Keely",
         "18824033531",
         "taciti@neceleifendnon.edu",
         "2008-02-03",
         41,
         10373.0,
         9.0
        ],
        [
         37,
         "Inga",
         "7676448",
         "Mauris.quis.turpis@euismodurna.net",
         "2016-12-31",
         41,
         8562.0,
         3.0
        ],
        [
         38,
         "Irma",
         "7228997",
         "ac.urna.Ut@a.ca",
         "2013-10-14",
         58,
         6747.0,
         8.0
        ],
        [
         39,
         "Carolyn",
         "8467060",
         "metus.Aenean.sed@odiosempercursus.ca",
         "2013-05-29",
         64,
         22838.0,
         6.0
        ],
        [
         40,
         "Ross",
         "3870945",
         "amet.faucibus@ipsum.edu",
         "2009-07-27",
         67,
         14285.0,
         3.0
        ],
        [
         41,
         "Wynne",
         "7110298",
         "eget@dolorQuisque.ca",
         "2007-07-24",
         31,
         19522.0,
         4.0
        ],
        [
         42,
         "Wanda",
         "9413970",
         "auctor.velit@sem.com",
         "2011-12-12",
         42,
         5419.0,
         9.0
        ],
        [
         43,
         "Yetta",
         "9860220",
         "vitae@dapibusrutrumjusto.co.uk",
         "2008-03-24",
         61,
         21452.0,
         2.0
        ],
        [
         44,
         "Azalia",
         "5828465",
         "eu.odio@a.co.uk",
         "2009-12-14",
         27,
         16735.0,
         10.0
        ],
        [
         45,
         "Kylynn",
         "14274638734",
         "porttitor.eros.nec@Integer.net",
         "2006-12-19",
         22,
         7040.0,
         7.0
        ],
        [
         46,
         "Camden",
         "16635403304",
         "leo@dignissimpharetraNam.net",
         "2003-10-19",
         30,
         7860.0,
         10.0
        ],
        [
         47,
         "Vernon",
         "7358400",
         "leo@mattisIntegereu.net",
         "2000-11-23",
         35,
         7109.0,
         10.0
        ],
        [
         48,
         "Illiana",
         "5723648",
         "montes.nascetur.ridiculus@hendreritneque.co.uk",
         "2017-07-25",
         18,
         1454.0,
         8.0
        ],
        [
         49,
         "Logan",
         "7067700",
         "neque@sedpede.net",
         "2008-03-07",
         63,
         4963.0,
         7.0
        ],
        [
         50,
         "Ross",
         "15872851837",
         "at.risus@milaciniamattis.com",
         "2009-11-03",
         31,
         19092.0,
         5.0
        ],
        [
         51,
         "Damon",
         "3687630",
         "nunc@dapibusquamquis.co.uk",
         "2016-08-11",
         49,
         2669.0,
         5.0
        ],
        [
         52,
         "Whoopi",
         "16715525009",
         "semper@Cras.ca",
         "2019-01-21",
         22,
         23051.0,
         9.0
        ],
        [
         53,
         "Zachery",
         "3148083",
         "hymenaeos.Mauris@mollis.ca",
         "2001-01-06",
         22,
         23820.0,
         3.0
        ],
        [
         54,
         "Lars",
         "15546000855",
         "commodo@Nam.edu",
         "2005-06-22",
         25,
         20573.0,
         1.0
        ],
        [
         55,
         "Jennifer",
         "7556162",
         "id@ultrices.com",
         "2011-10-19",
         64,
         19013.0,
         9.0
        ],
        [
         56,
         "Colby",
         "15178278614",
         "nec.ligula@euneque.ca",
         "2014-03-05",
         19,
         15496.0,
         7.0
        ],
        [
         57,
         "Jillian",
         "12862850336",
         "ipsum@luctus.org",
         "2006-06-02",
         47,
         13445.0,
         8.0
        ],
        [
         58,
         "Igor",
         "13616038276",
         "mattis.Integer.eu@hendreritconsectetuer.net",
         "2003-07-18",
         37,
         6191.0,
         3.0
        ],
        [
         59,
         "Quemby",
         "9305882",
         "lorem.ut.aliquam@nuncsed.org",
         "2017-10-04",
         26,
         12092.0,
         5.0
        ],
        [
         60,
         "Bernard",
         "4928823",
         "vel.faucibus@Donec.edu",
         "2005-04-15",
         27,
         10825.0,
         2.0
        ],
        [
         61,
         "Abel",
         "12355305916",
         "Curae@afacilisis.org",
         "2011-11-08",
         33,
         15070.0,
         9.0
        ],
        [
         62,
         "Amelia",
         "1199184",
         "Donec.egestas.Aliquam@turpisvitae.co.uk",
         "2016-01-15",
         35,
         6042.0,
         8.0
        ],
        [
         63,
         "Sade",
         "1125494",
         "In@utquam.com",
         "2012-04-05",
         70,
         11112.0,
         6.0
        ],
        [
         64,
         "Graiden",
         "8744897",
         "massa.Mauris.vestibulum@sitamet.co.uk",
         "2010-06-10",
         28,
         22037.0,
         3.0
        ],
        [
         65,
         "Nehru",
         "1429576",
         "nibh@sagittis.org",
         "2017-08-13",
         34,
         12423.0,
         4.0
        ],
        [
         66,
         "Adrian",
         "2208905",
         "enim@mollisPhasellus.com",
         "2018-03-15",
         46,
         22953.0,
         2.0
        ],
        [
         67,
         "Buffy",
         "15381902276",
         "amet@at.ca",
         "2005-10-21",
         38,
         15116.0,
         2.0
        ],
        [
         68,
         "Hayes",
         "7128783",
         "at@ametdiam.net",
         "2011-12-31",
         31,
         7523.0,
         5.0
        ],
        [
         69,
         "Halee",
         "12089968549",
         "interdum.feugiat@imperdietornare.edu",
         "2008-12-25",
         30,
         16782.0,
         3.0
        ],
        [
         70,
         "Suki",
         "16544188537",
         "varius.orci.in@congueelit.co.uk",
         "2010-05-15",
         43,
         12029.0,
         1.0
        ],
        [
         71,
         "Doris",
         "5088624",
         "Curabitur.vel.lectus@mauris.co.uk",
         "2005-04-28",
         23,
         11538.0,
         6.0
        ],
        [
         72,
         "Tallulah",
         "13147208141",
         "non@idmagnaet.ca",
         "2000-04-03",
         46,
         9867.0,
         5.0
        ],
        [
         73,
         "Fiona",
         "18662588730",
         "sit@sedsemegestas.net",
         "2009-09-27",
         42,
         9960.0,
         10.0
        ],
        [
         74,
         "Kaitlin",
         "8170415",
         "Etiam.laoreet.libero@odiosagittissemper.net",
         "2009-05-22",
         56,
         6515.0,
         10.0
        ],
        [
         75,
         "Nyssa",
         "3620379",
         "nisi.sem.semper@egestasligulaNullam.edu",
         "2002-04-29",
         53,
         2284.0,
         6.0
        ],
        [
         76,
         "Omar",
         "13252459578",
         "elit.erat@utodiovel.co.uk",
         "2012-11-19",
         34,
         12163.0,
         6.0
        ],
        [
         77,
         "Brynne",
         "13579778936",
         "aliquet.nec.imperdiet@euismod.org",
         "2013-06-04",
         22,
         16551.0,
         7.0
        ],
        [
         78,
         "Lenore",
         "18179735592",
         "Nunc.pulvinar.arcu@Duisatlacus.co.uk",
         "2014-07-07",
         57,
         1483.0,
         2.0
        ],
        [
         79,
         "Philip",
         "11135283055",
         "nisi.Cum@malesuadavel.edu",
         "2012-09-17",
         51,
         3919.0,
         10.0
        ],
        [
         80,
         "Ebony",
         "12913604704",
         "parturient.montes.nascetur@vitaeerat.com",
         "2014-05-22",
         59,
         3600.0,
         6.0
        ],
        [
         81,
         "Joy",
         "13793840646",
         "mi.Aliquam@nislNulla.org",
         "2015-11-15",
         19,
         1256.0,
         2.0
        ],
        [
         82,
         "Cally",
         "16588905167",
         "id@dolor.edu",
         "2008-12-13",
         67,
         24575.0,
         10.0
        ],
        [
         83,
         "Giselle",
         "15157996913",
         "ipsum.Suspendisse.sagittis@Innec.org",
         "2002-10-31",
         45,
         2503.0,
         2.0
        ],
        [
         84,
         "Keith",
         "13192819980",
         "augue.ac@Nulla.co.uk",
         "2008-01-03",
         33,
         13348.0,
         4.0
        ],
        [
         85,
         "Kennedy",
         "5960668",
         "nibh.sit@famesac.ca",
         "2011-04-25",
         41,
         7272.0,
         3.0
        ],
        [
         86,
         "Jack",
         "8609554",
         "parturient.montes.nascetur@dui.com",
         "2017-03-10",
         58,
         14473.0,
         5.0
        ],
        [
         87,
         "Karly",
         "16447257241",
         "tempor.erat@feugiatnon.ca",
         "2011-06-12",
         25,
         3715.0,
         1.0
        ],
        [
         88,
         "Zeus",
         "15253615753",
         "non.magna.Nam@nuncid.org",
         "2000-09-15",
         29,
         21556.0,
         7.0
        ],
        [
         89,
         "Kelly",
         "4309134",
         "turpis.In@egestasFusce.ca",
         "2016-04-01",
         55,
         10110.0,
         6.0
        ],
        [
         90,
         "Sigourney",
         "5988806",
         "sit.amet@sem.net",
         "2002-05-02",
         42,
         9145.0,
         6.0
        ],
        [
         91,
         "Erica",
         "13203392705",
         "tristique.senectus@eleifendnondapibus.org",
         "2015-02-23",
         32,
         8934.0,
         6.0
        ],
        [
         92,
         "Lesley",
         "9734902",
         "felis.adipiscing.fringilla@Proinvelnisl.co.uk",
         "2004-02-29",
         19,
         23547.0,
         4.0
        ],
        [
         93,
         "Althea",
         "11637021244",
         "sit.amet.nulla@elit.co.uk",
         "2002-09-01",
         24,
         8818.0,
         1.0
        ],
        [
         94,
         "Amir",
         "12217170093",
         "dapibus.ligula@faucibuslectus.com",
         "2001-02-11",
         18,
         20980.0,
         4.0
        ],
        [
         95,
         "Jayme",
         "16411138418",
         "ornare.Fusce@tinciduntcongueturpis.co.uk",
         "2002-05-31",
         58,
         23975.0,
         4.0
        ],
        [
         96,
         "Amos",
         "7294665",
         "non.lacinia@pharetra.net",
         "2017-11-27",
         42,
         15855.0,
         2.0
        ],
        [
         97,
         "Flavia",
         "15592707164",
         "erat.vel.pede@sedtortor.co.uk",
         "2004-11-14",
         27,
         13473.0,
         3.0
        ],
        [
         98,
         "Yuli",
         "7729996",
         "sagittis@nisl.com",
         "2005-04-17",
         57,
         1336.0,
         5.0
        ],
        [
         99,
         "Ray",
         "14203142886",
         "ac.risus.Morbi@telluseuaugue.org",
         "2011-12-30",
         26,
         5570.0,
         1.0
        ],
        [
         100,
         "Cynthia",
         "1489696",
         "justo.nec.ante@tinciduntvehicula.org",
         "2008-01-23",
         57,
         8682.0,
         5.0
        ]
       ],
       "datasetInfos": [],
       "dbfsResultPath": null,
       "isJsonSchema": true,
       "metadata": {},
       "overflow": false,
       "plotOptions": {
        "customPlotOptions": {},
        "displayType": "table",
        "pivotAggregation": null,
        "pivotColumns": null,
        "xColumns": null,
        "yColumns": null
       },
       "removedWidgets": [],
       "schema": [
        {
         "metadata": "{}",
         "name": "ID",
         "type": "\"integer\""
        },
        {
         "metadata": "{}",
         "name": "NOMBRE",
         "type": "\"string\""
        },
        {
         "metadata": "{}",
         "name": "TELEFONO",
         "type": "\"string\""
        },
        {
         "metadata": "{}",
         "name": "CORREO",
         "type": "\"string\""
        },
        {
         "metadata": "{}",
         "name": "FECHA_INGRESO",
         "type": "\"date\""
        },
        {
         "metadata": "{}",
         "name": "EDAD",
         "type": "\"integer\""
        },
        {
         "metadata": "{}",
         "name": "SALARIO",
         "type": "\"double\""
        },
        {
         "metadata": "{}",
         "name": "ID_EMPRESA",
         "type": "\"double\""
        }
       ],
       "type": "table"
      }
     },
     "output_type": "display_data"
    },
    {
     "output_type": "display_data",
     "data": {
      "text/html": [
       "<style scoped>\n",
       "  .table-result-container {\n",
       "    max-height: 300px;\n",
       "    overflow: auto;\n",
       "  }\n",
       "  table, th, td {\n",
       "    border: 1px solid black;\n",
       "    border-collapse: collapse;\n",
       "  }\n",
       "  th, td {\n",
       "    padding: 5px;\n",
       "  }\n",
       "  th {\n",
       "    text-align: left;\n",
       "  }\n",
       "</style><div class='table-result-container'><table class='table-result'><thead style='background-color: white'><tr><th>ID</th><th>EMPRESA_NAME</th></tr></thead><tbody><tr><td>1</td><td>WALMART</td></tr><tr><td>2</td><td>MICROSOFT</td></tr><tr><td>3</td><td>APPLE</td></tr><tr><td>4</td><td>TOYOTA</td></tr><tr><td>5</td><td>AMAZON</td></tr><tr><td>6</td><td>GOOGLE</td></tr><tr><td>7</td><td>SAMSUNG</td></tr><tr><td>8</td><td>HP</td></tr><tr><td>9</td><td>IBM</td></tr><tr><td>10</td><td>SONY</td></tr></tbody></table></div>"
      ]
     },
     "metadata": {
      "application/vnd.databricks.v1+output": {
       "addedWidgets": {},
       "aggData": [],
       "aggError": "",
       "aggOverflow": false,
       "aggSchema": [],
       "aggSeriesLimitReached": false,
       "aggType": "",
       "arguments": {},
       "columnCustomDisplayInfos": {},
       "data": [
        [
         1,
         "WALMART"
        ],
        [
         2,
         "MICROSOFT"
        ],
        [
         3,
         "APPLE"
        ],
        [
         4,
         "TOYOTA"
        ],
        [
         5,
         "AMAZON"
        ],
        [
         6,
         "GOOGLE"
        ],
        [
         7,
         "SAMSUNG"
        ],
        [
         8,
         "HP"
        ],
        [
         9,
         "IBM"
        ],
        [
         10,
         "SONY"
        ]
       ],
       "datasetInfos": [],
       "dbfsResultPath": null,
       "isJsonSchema": true,
       "metadata": {},
       "overflow": false,
       "plotOptions": {
        "customPlotOptions": {},
        "displayType": "table",
        "pivotAggregation": null,
        "pivotColumns": null,
        "xColumns": null,
        "yColumns": null
       },
       "removedWidgets": [],
       "schema": [
        {
         "metadata": "{}",
         "name": "ID",
         "type": "\"integer\""
        },
        {
         "metadata": "{}",
         "name": "EMPRESA_NAME",
         "type": "\"string\""
        }
       ],
       "type": "table"
      }
     },
     "output_type": "display_data"
    }
   ],
   "source": [
    "bucket = 'dmc-bigdata-ed2'\n",
    "personas_silver = f\"gs://{bucket}/silver/sap-jmsp/persona/\"\n",
    "empresa_silver = f\"gs://{bucket}/silver/sap-jmsp/empresa/\"\n",
    "reporte_salario_empresa = f\"gs://{bucket}/gold/reportes/salario_empresa_jmsp/\"\n",
    "\n",
    "df_personas = spark.read.format(\"delta\").option(\"header\",\"true\").load(personas_silver)\n",
    "df_empresas = spark.read.format(\"delta\").option(\"header\",\"true\").load(empresa_silver)\n",
    "\n",
    "display(df_personas)\n",
    "display(df_empresas)"
   ]
  },
  {
   "cell_type": "code",
   "execution_count": 0,
   "metadata": {
    "application/vnd.databricks.v1+cell": {
     "cellMetadata": {
      "byteLimit": 2048000,
      "rowLimit": 10000
     },
     "inputWidgets": {},
     "nuid": "d70273fc-289e-41b7-b4c1-d52d50c3c32c",
     "showTitle": false,
     "tableResultSettingsMap": {},
     "title": ""
    }
   },
   "outputs": [
    {
     "output_type": "stream",
     "name": "stdout",
     "output_type": "stream",
     "text": [
      "+---+---------+-----------+--------------------+-------------+----+-------+----------+---+------------+\n| ID|   NOMBRE|   TELEFONO|              CORREO|FECHA_INGRESO|EDAD|SALARIO|ID_EMPRESA| ID|EMPRESA_NAME|\n+---+---------+-----------+--------------------+-------------+----+-------+----------+---+------------+\n|  1|     Carl|17456339145|arcu.Sed.et@ante....|   2004-04-23|  32|20095.0|       5.0|  5|      AMAZON|\n|  2|Priscilla|    1552498|Donec.egestas.Ali...|   2019-02-17|  34| 9298.0|       2.0|  2|   MICROSOFT|\n|  3|  Jocelyn|12049568594|amet.diam@loborti...|   2002-08-01|  27|10853.0|       3.0|  3|       APPLE|\n|  4|    Aidan|17198629385|euismod.et.commod...|   2018-11-06|  29| 3387.0|      10.0| 10|        SONY|\n|  5|  Leandra|    8398044|at@pretiumetrutru...|   2002-10-10|  41|22102.0|       1.0|  1|     WALMART|\n|  6|     Bert|    7974453|a.felis.ullamcorp...|   2017-04-25|  70| 7800.0|       7.0|  7|     SAMSUNG|\n|  7|     Mark|16801026792|Quisque.ac@placer...|   2006-04-21|  52| 8112.0|       5.0|  5|      AMAZON|\n|  8|    Jonah|    2142975|eu.ultrices.sit@v...|   2017-10-07|  23|17040.0|       5.0|  5|      AMAZON|\n|  9|    Hanae|    9352277|          eu@Nunc.ca|   2003-05-25|  69| 6834.0|       3.0|  3|       APPLE|\n| 10|   Cadman|18665612701|orci.adipiscing.n...|   2001-05-19|  19| 7996.0|       7.0|  7|     SAMSUNG|\n| 11|  Melyssa|    5967736|vel@vulputateposu...|   2008-10-14|  48| 4913.0|       8.0|  8|          HP|\n| 12|   Tanner|17397767897|arcu.Aliquam.ultr...|   2011-05-10|  24|19943.0|       8.0|  8|          HP|\n| 13|   Trevor|    5121955|Nunc.quis.arcu@eg...|   2010-08-06|  34| 9501.0|       5.0|  5|      AMAZON|\n| 14|    Allen|    7332795|felis.Donec@necle...|   2005-03-07|  59|16289.0|       2.0|  2|   MICROSOFT|\n| 15|    Wanda|    3596973|Nam.nulla.magna@I...|   2005-08-21|  27| 1539.0|       5.0|  5|      AMAZON|\n| 16|    Alden|    3418522|odio@morbitristiq...|   2006-12-05|  26| 3377.0|       2.0|  2|   MICROSOFT|\n| 17|     Omar|    7201543|Phasellus.vitae.m...|   2014-06-24|  60| 6851.0|       6.0|  6|      GOOGLE|\n| 18|     Owen|11673357541|     sociis@erat.com|   2002-04-09|  34| 4759.0|       7.0|  7|     SAMSUNG|\n| 19|    Laura|19746232057|    mollis@ornare.ca|   2017-03-09|  70|17403.0|       4.0|  4|      TOYOTA|\n| 20|    Emery|16728400264|     at.nisi@vel.org|   2004-02-27|  24|18752.0|       9.0|  9|         IBM|\n+---+---------+-----------+--------------------+-------------+----+-------+----------+---+------------+\nonly showing top 20 rows\n\n"
     ]
    }
   ],
   "source": [
    "df_join = df_personas.join(df_empresas, df_personas.ID_EMPRESA == df_empresas.ID)\n",
    "df_join.show()"
   ]
  },
  {
   "cell_type": "code",
   "execution_count": 0,
   "metadata": {
    "application/vnd.databricks.v1+cell": {
     "cellMetadata": {
      "byteLimit": 2048000,
      "rowLimit": 10000
     },
     "inputWidgets": {},
     "nuid": "588bcec6-3109-4f04-88be-3a763b6e7012",
     "showTitle": false,
     "tableResultSettingsMap": {},
     "title": ""
    }
   },
   "outputs": [],
   "source": [
    "df_personas.createOrReplaceTempView(\"personas\")\n",
    "df_empresas.createOrReplaceTempView(\"empresas\")"
   ]
  },
  {
   "cell_type": "code",
   "execution_count": 0,
   "metadata": {
    "application/vnd.databricks.v1+cell": {
     "cellMetadata": {
      "byteLimit": 2048000,
      "rowLimit": 10000
     },
     "inputWidgets": {},
     "nuid": "72a95dda-6054-432d-b022-ef6dfb6daa90",
     "showTitle": false,
     "tableResultSettingsMap": {},
     "title": ""
    }
   },
   "outputs": [],
   "source": [
    "df_sql = spark.sql(\"SELECT empresa_name ,avg(edad) as prom_edad,sum(salario) as planilla,avg(salario) as avg_salario,'202409' as periodo  FROM personas p inner join empresas e on e.ID = p.ID_EMPRESA group by empresa_name\") "
   ]
  },
  {
   "cell_type": "code",
   "execution_count": 0,
   "metadata": {
    "application/vnd.databricks.v1+cell": {
     "cellMetadata": {
      "byteLimit": 2048000,
      "rowLimit": 10000
     },
     "inputWidgets": {},
     "nuid": "163de804-fa52-4f87-8054-5080ad0ff68b",
     "showTitle": false,
     "tableResultSettingsMap": {},
     "title": ""
    }
   },
   "outputs": [
    {
     "output_type": "display_data",
     "data": {
      "text/html": [
       "<style scoped>\n",
       "  .table-result-container {\n",
       "    max-height: 300px;\n",
       "    overflow: auto;\n",
       "  }\n",
       "  table, th, td {\n",
       "    border: 1px solid black;\n",
       "    border-collapse: collapse;\n",
       "  }\n",
       "  th, td {\n",
       "    padding: 5px;\n",
       "  }\n",
       "  th {\n",
       "    text-align: left;\n",
       "  }\n",
       "</style><div class='table-result-container'><table class='table-result'><thead style='background-color: white'><tr><th>empresa_name</th><th>prom_edad</th><th>planilla</th><th>avg_salario</th><th>periodo</th></tr></thead><tbody><tr><td>TOYOTA</td><td>38.875</td><td>155503.0</td><td>19437.875</td><td>202409</td></tr><tr><td>HP</td><td>39.888888888888886</td><td>73319.0</td><td>8146.555555555556</td><td>202409</td></tr><tr><td>MICROSOFT</td><td>39.785714285714285</td><td>156377.0</td><td>11169.785714285714</td><td>202409</td></tr><tr><td>APPLE</td><td>39.63636363636363</td><td>151700.0</td><td>13790.90909090909</td><td>202409</td></tr><tr><td>IBM</td><td>37.666666666666664</td><td>91678.0</td><td>15279.666666666666</td><td>202409</td></tr><tr><td>SONY</td><td>40.888888888888886</td><td>82012.0</td><td>9112.444444444445</td><td>202409</td></tr><tr><td>GOOGLE</td><td>50.0</td><td>135243.0</td><td>10403.307692307691</td><td>202409</td></tr><tr><td>AMAZON</td><td>41.214285714285715</td><td>136609.0</td><td>9757.785714285714</td><td>202409</td></tr><tr><td>SAMSUNG</td><td>34.55555555555556</td><td>106710.0</td><td>11856.666666666666</td><td>202409</td></tr><tr><td>WALMART</td><td>35.857142857142854</td><td>79304.0</td><td>11329.142857142857</td><td>202409</td></tr></tbody></table></div>"
      ]
     },
     "metadata": {
      "application/vnd.databricks.v1+output": {
       "addedWidgets": {},
       "aggData": [],
       "aggError": "",
       "aggOverflow": false,
       "aggSchema": [],
       "aggSeriesLimitReached": false,
       "aggType": "",
       "arguments": {},
       "columnCustomDisplayInfos": {},
       "data": [
        [
         "TOYOTA",
         38.875,
         155503.0,
         19437.875,
         "202409"
        ],
        [
         "HP",
         39.888888888888886,
         73319.0,
         8146.555555555556,
         "202409"
        ],
        [
         "MICROSOFT",
         39.785714285714285,
         156377.0,
         11169.785714285714,
         "202409"
        ],
        [
         "APPLE",
         39.63636363636363,
         151700.0,
         13790.90909090909,
         "202409"
        ],
        [
         "IBM",
         37.666666666666664,
         91678.0,
         15279.666666666666,
         "202409"
        ],
        [
         "SONY",
         40.888888888888886,
         82012.0,
         9112.444444444445,
         "202409"
        ],
        [
         "GOOGLE",
         50.0,
         135243.0,
         10403.307692307691,
         "202409"
        ],
        [
         "AMAZON",
         41.214285714285715,
         136609.0,
         9757.785714285714,
         "202409"
        ],
        [
         "SAMSUNG",
         34.55555555555556,
         106710.0,
         11856.666666666666,
         "202409"
        ],
        [
         "WALMART",
         35.857142857142854,
         79304.0,
         11329.142857142857,
         "202409"
        ]
       ],
       "datasetInfos": [],
       "dbfsResultPath": null,
       "isJsonSchema": true,
       "metadata": {},
       "overflow": false,
       "plotOptions": {
        "customPlotOptions": {},
        "displayType": "table",
        "pivotAggregation": null,
        "pivotColumns": null,
        "xColumns": null,
        "yColumns": null
       },
       "removedWidgets": [],
       "schema": [
        {
         "metadata": "{}",
         "name": "empresa_name",
         "type": "\"string\""
        },
        {
         "metadata": "{}",
         "name": "prom_edad",
         "type": "\"double\""
        },
        {
         "metadata": "{}",
         "name": "planilla",
         "type": "\"double\""
        },
        {
         "metadata": "{}",
         "name": "avg_salario",
         "type": "\"double\""
        },
        {
         "metadata": "{}",
         "name": "periodo",
         "type": "\"string\""
        }
       ],
       "type": "table"
      }
     },
     "output_type": "display_data"
    }
   ],
   "source": [
    "display(df_sql)"
   ]
  },
  {
   "cell_type": "code",
   "execution_count": 0,
   "metadata": {
    "application/vnd.databricks.v1+cell": {
     "cellMetadata": {
      "byteLimit": 2048000,
      "rowLimit": 10000
     },
     "inputWidgets": {},
     "nuid": "4d506e46-cc55-453a-b120-b23f0b00f2cb",
     "showTitle": false,
     "tableResultSettingsMap": {},
     "title": ""
    }
   },
   "outputs": [],
   "source": [
    "df_sql.write.mode(\"overwrite\").format(\"delta\").partitionBy('PERIODO').save(reporte_salario_empresa)\n"
   ]
  },
  {
   "cell_type": "code",
   "execution_count": 0,
   "metadata": {
    "application/vnd.databricks.v1+cell": {
     "cellMetadata": {
      "byteLimit": 2048000,
      "rowLimit": 10000
     },
     "inputWidgets": {},
     "nuid": "c3b6141d-fc59-4765-96fc-78ab6c6726f1",
     "showTitle": false,
     "tableResultSettingsMap": {},
     "title": ""
    }
   },
   "outputs": [
    {
     "output_type": "stream",
     "name": "stdout",
     "output_type": "stream",
     "text": [
      "+------------+------------------+--------+------------------+-------+\n|empresa_name|         prom_edad|planilla|       avg_salario|periodo|\n+------------+------------------+--------+------------------+-------+\n|      TOYOTA|            38.875|155503.0|         19437.875| 202409|\n|          HP|39.888888888888886| 73319.0| 8146.555555555556| 202409|\n|   MICROSOFT|39.785714285714285|156377.0|11169.785714285714| 202409|\n|       APPLE| 39.63636363636363|151700.0| 13790.90909090909| 202409|\n|         IBM|37.666666666666664| 91678.0|15279.666666666666| 202409|\n|        SONY|40.888888888888886| 82012.0| 9112.444444444445| 202409|\n|      GOOGLE|              50.0|135243.0|10403.307692307691| 202409|\n|      AMAZON|41.214285714285715|136609.0| 9757.785714285714| 202409|\n|     SAMSUNG| 34.55555555555556|106710.0|11856.666666666666| 202409|\n|     WALMART|35.857142857142854| 79304.0|11329.142857142857| 202409|\n+------------+------------------+--------+------------------+-------+\n\n"
     ]
    }
   ],
   "source": [
    "df_salario_empresa = spark.read.format(\"delta\").option(\"header\",\"true\").load(reporte_salario_empresa)\n",
    "df_salario_empresa.show(10)"
   ]
  }
 ],
 "metadata": {
  "application/vnd.databricks.v1+notebook": {
   "computePreferences": null,
   "dashboards": [],
   "environmentMetadata": null,
   "language": "python",
   "notebookMetadata": {
    "pythonIndentUnit": 2
   },
   "notebookName": "script_gold_reportes_salario_empresa_hm",
   "widgets": {}
  }
 },
 "nbformat": 4,
 "nbformat_minor": 0
}
